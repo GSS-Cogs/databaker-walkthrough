{
 "cells": [
  {
   "cell_type": "markdown",
   "metadata": {},
   "source": [
    "### Selection Exercise 1\n",
    "\n",
    "This example uses the same source as previously, but this time we're going to acquire the data and make multiple selections (and have a look at what each selection contains).\n",
    "\n",
    "All code cells in this notebook can be run directly, by selecting the cell then the play icon on the above ribbon.\n",
    "\n",
    "![](./images/example1_spreadsheet.png)"
   ]
  },
  {
   "cell_type": "code",
   "execution_count": null,
   "metadata": {},
   "outputs": [],
   "source": [
    "# Acquisition\n",
    "\n",
    "from databaker.framework import *\n",
    "from tutorialResources.scraper import Scraper\n",
    "\n",
    "scraper = Scraper(\"https://www.fake-website.com/example1\")\n",
    "scraper"
   ]
  },
  {
   "cell_type": "markdown",
   "metadata": {},
   "source": [
    "------\n",
    "*Once you've run the above cell.....*\n",
    "\n",
    "You'll see some output, this is an example of metadata acquired by the scraper - the current practice is for any metadata acquired by the scraping process to be output here as a convenience, so the data engineer to see what they've got to work with. On many occasions you'll be needing to expand on this initial metadata.\n",
    "\n",
    "For now, we're just concerned with the source dataset (i.e observations and dimensions) and how to select them from a spreadsheet with databaker, so be aware of but otherwise ignore the above metadata output.\n",
    "\n",
    "------"
   ]
  },
  {
   "cell_type": "code",
   "execution_count": null,
   "metadata": {},
   "outputs": [],
   "source": [
    "# Selection\n",
    "\n",
    "# Get the sheets from the scraped distribution as a list of databaker-style \"tabs\"\n",
    "# A \"tab\" as created this way is a \"bags of cells\", that is to say a python \"bag\" object, holding a list of \"cell\" objects\n",
    "tabs = scraper.distribution.as_databaker()\n",
    "\n",
    "# Filter out the tabs we dont want with a python list comprehension\n",
    "# NOTE - databaker \"tabs\" always have a .name property - it's a good one to remember\n",
    "tabs = [x for x in tabs if x.name != \"sheet1\"]\n",
    "\n",
    "# Typically, we'd iterate the tabs in the following fashion\n",
    "for tab in tabs:\n",
    "    \n",
    "    # do....stuff! (usually)\n",
    "    pass\n",
    "\n",
    "\n",
    "# ----\n",
    "# Instead, for this example we'll do it without the loop - just remember that's the exception rather than the rule\n",
    "\n",
    "tab = tabs[0] # get our one tab\n",
    "\n",
    "# Create a that represent the observations\n",
    "observations = tab.excel_ref(\"C5\").expand(DOWN).expand(RIGHT).is_not_blank()\n",
    "    \n",
    "# Create a cellbag with the cells that represent the \"Assets\" dimension\n",
    "assets = tab.excel_ref(\"C3\").expand(RIGHT).is_not_blank()\n",
    "    \n",
    "# Create a cellbag with the cells that represent the \"Group\" dimension\n",
    "group = tab.excel_ref(\"A5\").expand(DOWN).is_not_blank()\n",
    "    \n",
    "# Create a cellbag with the cells that represnt the \"Name\" dimension\n",
    "name = tab.excel_ref(\"B5\").fill(DOWN).is_not_blank()\n"
   ]
  },
  {
   "cell_type": "markdown",
   "metadata": {},
   "source": [
    "-----\n",
    "\n",
    "## Print the contents of each of the cellbags\n",
    "\n",
    "We're just going to use fact that jupyter by default prints any lone variables that finish a code cell. Otherwise you'd need to use a python print() statement.\n",
    "\n",
    "**NOTE**: if you call print an individual cellBag object it will always print \"cells\" in the form of `<EXCEL_REF, VALUE>`."
   ]
  },
  {
   "cell_type": "code",
   "execution_count": null,
   "metadata": {},
   "outputs": [],
   "source": [
    "observations"
   ]
  },
  {
   "cell_type": "code",
   "execution_count": null,
   "metadata": {},
   "outputs": [],
   "source": [
    "assets"
   ]
  },
  {
   "cell_type": "code",
   "execution_count": null,
   "metadata": {},
   "outputs": [],
   "source": [
    "group"
   ]
  },
  {
   "cell_type": "code",
   "execution_count": null,
   "metadata": {},
   "outputs": [],
   "source": [
    "name"
   ]
  }
 ],
 "metadata": {
  "kernelspec": {
   "display_name": "Python 3",
   "language": "python",
   "name": "python3"
  },
  "language_info": {
   "codemirror_mode": {
    "name": "ipython",
    "version": 3
   },
   "file_extension": ".py",
   "mimetype": "text/x-python",
   "name": "python",
   "nbconvert_exporter": "python",
   "pygments_lexer": "ipython3",
   "version": "3.6.6"
  }
 },
 "nbformat": 4,
 "nbformat_minor": 2
}
