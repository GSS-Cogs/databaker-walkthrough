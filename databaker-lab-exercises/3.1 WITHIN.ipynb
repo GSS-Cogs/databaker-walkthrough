{
 "cells": [
  {
   "cell_type": "markdown",
   "id": "15e5af6c-8090-4420-b3c5-6e0206e49ea4",
   "metadata": {},
   "source": [
    "# WITHIN Exercise\n",
    "\n",
    "This exercise uses a different test dataset (databakerWithinExapmle.xls) to demonstrate how the WITHIN keyword can be used for when the cells we want are both LEFT and RIGHT, relative to different observations cells.\n",
    "\n",
    "All code cells in this notebook can be run directly, by selecting the cell then the play icon on the above ribbon.\n",
    "\n"
   ]
  },
  {
   "cell_type": "markdown",
   "id": "96e58c66-598f-432b-a2e2-7e434f267912",
   "metadata": {},
   "source": [
    "### WITHIN ABOVE Example\n",
    "\n",
    "![](./images/WITHIN_Example1.png)\n",
    "\n",
    "Given this table, the relationship between the age1 dimension is both LEFT and RIGHT, realative to a given observation.\n",
    "\n",
    "We can use the WITHIN keyword when defining the relationship to specific that the dimension is within a given range above the observations.\n"
   ]
  },
  {
   "cell_type": "code",
   "execution_count": 1,
   "id": "536d5ce3-a571-4a3f-9b0c-9fcb30bdd1db",
   "metadata": {},
   "outputs": [
    {
     "data": {
      "text/markdown": [
       "**Example dataset 2**\n"
      ],
      "text/plain": [
       "<IPython.core.display.Markdown object>"
      ]
     },
     "metadata": {},
     "output_type": "display_data"
    },
    {
     "data": {
      "text/markdown": [
       "this is an example dataset for the WITHIN walkthrough.\n"
      ],
      "text/plain": [
       "<IPython.core.display.Markdown object>"
      ]
     },
     "metadata": {},
     "output_type": "display_data"
    },
    {
     "data": {
      "text/plain": []
     },
     "execution_count": 1,
     "metadata": {},
     "output_type": "execute_result"
    }
   ],
   "source": [
    "# NOTE - you can run me!\n",
    "\n",
    "# Acquisition\n",
    "\n",
    "from databaker.framework import *\n",
    "from tutorialResources.scraper import Scraper\n",
    "\n",
    "scraper = Scraper(\"https://www.fake-website.com/within-example1\")\n",
    "scraper"
   ]
  },
  {
   "cell_type": "code",
   "execution_count": 2,
   "id": "34c95ab4-8250-432f-a3fd-65225b70e973",
   "metadata": {},
   "outputs": [
    {
     "data": {
      "text/plain": [
       "{<F8 37.0>, <C7 11.0>, <H10 45.0>, <H3 ''>, <B1 ''>, <H14 ''>, <C8 14.0>, <G5 29.0>, <C13 ''>, <G3 ''>, <H18 81.0>, <B21 64.0>, <D23 72.0>, <G9 41.0>, <C4 2.0>, <G17 77.0>, <A1 ''>, <B11 22.0>, <A12 ''>, <E2 ''>, <B20 61.0>, <D22 69.0>, <G21 89.0>, <G6 32.0>, <I10 ''>, <F15 ''>, <A14 ''>, <E4 ''>, <E15 ''>, <F7 34.0>, <B16 49.0>, <A19 'Age2'>, <D19 60.0>, <E19 ''>, <I12 ''>, <I23 ''>, <G18 80.0>, <B7 10.0>, <H23 96.0>, <E21 ''>, <H8 39.0>, <D16 51.0>, <B5 4.0>, <I16 ''>, <F18 79.0>, <D15 ''>, <F16 73.0>, <A4 ''>, <G14 ''>, <C6 8.0>, <F20 85.0>, <A8 ''>, <I2 ''>, <B3 ''>, <B14 ''>, <H16 75.0>, <A6 ''>, <C18 56.0>, <F4 25.0>, <A10 ''>, <A21 ''>, <E11 ''>, <E22 ''>, <D9 18.0>, <H22 93.0>, <I19 ''>, <I6 ''>, <B17 52.0>, <G20 86.0>, <A23 ''>, <E13 ''>, <D21 66.0>, <F17 76.0>, <G8 38.0>, <H2 ''>, <H13 ''>, <E17 ''>, <I8 ''>, <C1 ''>, <G10 44.0>, <F6 31.0>, <H17 78.0>, <C5 5.0>, <B18 55.0>, <H15 ''>, <F1 ''>, <G16 74.0>, <A11 ''>, <D10 21.0>, <E1 ''>, <C23 71.0>, <E5 ''>, <I9 ''>, <F3 ''>, <F14 ''>, <C9 17.0>, <A2 ''>, <A13 ''>, <D6 9.0>, <E3 ''>, <H19 84.0>, <H4 27.0>, <D7 12.0>, <D12 ''>, <A17 ''>, <C3 'Age1'>, <E7 ''>, <B12 ''>, <E18 ''>, <F22 91.0>, <I22 ''>, <D11 24.0>, <B19 58.0>, <D3 ''>, <D1 ''>, <D14 ''>, <E9 ''>, <C10 20.0>, <E20 ''>, <G23 95.0>, <D17 54.0>, <I4 ''>, <I15 ''>, <H20 87.0>, <H5 30.0>, <H6 33.0>, <C12 ''>, <C16 50.0>, <C22 68.0>, <G2 ''>, <G13 ''>, <G19 83.0>, <G4 26.0>, <F9 40.0>, <A7 ''>, <H11 48.0>, <B2 ''>, <B8 13.0>, <B13 ''>, <I21 ''>, <C14 ''>, <F21 88.0>, <G15 ''>, <H9 42.0>, <I5 ''>, <D4 3.0>, <A9 ''>, <A20 ''>, <D5 6.0>, <C11 23.0>, <E14 ''>, <I7 ''>, <F12 ''>, <I18 ''>, <H21 90.0>, <H7 36.0>, <D20 63.0>, <C2 ''>, <A15 ''>, <H1 ''>, <E16 ''>, <B22 67.0>, <B23 70.0>, <C19 59.0>, <I11 ''>, <B9 16.0>, <C20 62.0>, <C15 ''>, <G11 47.0>, <F11 46.0>, <I13 ''>, <B4 1.0>, <A3 ''>, <B6 7.0>, <F2 ''>, <G12 'Age3'>, <F13 ''>, <D8 15.0>, <I17 ''>, <G7 35.0>, <B10 19.0>, <I20 'Age4'>, <F23 94.0>, <A5 ''>, <A16 ''>, <E6 ''>, <E10 ''>, <I3 ''>, <I1 ''>, <I14 ''>, <B15 ''>, <C21 65.0>, <D2 ''>, <D13 ''>, <A18 ''>, <D18 57.0>, <E8 ''>, <F19 82.0>, <F5 28.0>, <A22 ''>, <G22 92.0>, <E12 ''>, <E23 ''>, <C17 53.0>, <H12 ''>, <F10 43.0>, <G1 ''>}"
      ]
     },
     "execution_count": 2,
     "metadata": {},
     "output_type": "execute_result"
    }
   ],
   "source": [
    "# NOTE - you can run me!\n",
    "\n",
    "# Defining data containing tab\n",
    "\n",
    "tabs = scraper.distribution.as_databaker()\n",
    "\n",
    "tab = tabs[0]\n",
    "tab"
   ]
  },
  {
   "cell_type": "code",
   "execution_count": 3,
   "id": "2334634c-4e03-4b7a-a3cf-2536d589da9e",
   "metadata": {},
   "outputs": [
    {
     "data": {
      "text/html": [
       "<div id=\"injblock1001\">\n",
       "<style>\n",
       "table.ex, table.exkey { border: thin black solid }\n",
       "table.ex td, table.ex tr { border: none }\n",
       "table.ex td:hover { border: thin blue solid }\n",
       "table.ex td.excOBS:hover { border: thin red solid }\n",
       "table.ex td.selected { border: thick red solid }\n",
       "</style>\n",
       "\n",
       "\n",
       "<table class=\"exkey\">\n",
       "<tr><td class=\"xc0\" style=\"background-color:Aqua\">OBS</td><td class=\"xc1\" style=\"background-color:LightGreen\">Age1</td></tr></table>\n",
       "\n",
       "<table class=\"ex\">\n",
       "<caption style=\"text-align:center; padding:0px; caption-side:bottom\">Sheet1</caption>\n",
       "<tr><td title=\"0 0\"></td><td title=\"1 0\"></td><td title=\"2 0\"></td><td title=\"3 0\"></td><td title=\"4 0\"></td><td title=\"5 0\"></td><td title=\"6 0\"></td><td title=\"7 0\"></td><td title=\"8 0\"></td></tr>\n",
       "<tr><td title=\"0 1\"></td><td title=\"1 1\"></td><td title=\"2 1\"></td><td title=\"3 1\"></td><td title=\"4 1\"></td><td title=\"5 1\"></td><td title=\"6 1\"></td><td title=\"7 1\"></td><td title=\"8 1\"></td></tr>\n",
       "<tr><td title=\"0 2\"></td><td title=\"1 2\"></td><td style=\"background-color:LightGreen\" title=\"2 2\">Age1</td><td title=\"3 2\"></td><td title=\"4 2\"></td><td title=\"5 2\"></td><td title=\"6 2\"></td><td title=\"7 2\"></td><td title=\"8 2\"></td></tr>\n",
       "<tr><td title=\"0 3\"></td><td style=\"background-color:Aqua\" title=\"1 3\">1.0</td><td style=\"background-color:Aqua\" title=\"2 3\">2.0</td><td style=\"background-color:Aqua\" title=\"3 3\">3.0</td><td title=\"4 3\"></td><td title=\"5 3\">25.0</td><td title=\"6 3\">26.0</td><td title=\"7 3\">27.0</td><td title=\"8 3\"></td></tr>\n",
       "<tr><td title=\"0 4\"></td><td style=\"background-color:Aqua\" title=\"1 4\">4.0</td><td style=\"background-color:Aqua\" title=\"2 4\">5.0</td><td style=\"background-color:Aqua\" title=\"3 4\">6.0</td><td title=\"4 4\"></td><td title=\"5 4\">28.0</td><td title=\"6 4\">29.0</td><td title=\"7 4\">30.0</td><td title=\"8 4\"></td></tr>\n",
       "<tr><td title=\"0 5\"></td><td style=\"background-color:Aqua\" title=\"1 5\">7.0</td><td style=\"background-color:Aqua\" title=\"2 5\">8.0</td><td style=\"background-color:Aqua\" title=\"3 5\">9.0</td><td title=\"4 5\"></td><td title=\"5 5\">31.0</td><td title=\"6 5\">32.0</td><td title=\"7 5\">33.0</td><td title=\"8 5\"></td></tr>\n",
       "<tr><td title=\"0 6\"></td><td style=\"background-color:Aqua\" title=\"1 6\">10.0</td><td style=\"background-color:Aqua\" title=\"2 6\">11.0</td><td style=\"background-color:Aqua\" title=\"3 6\">12.0</td><td title=\"4 6\"></td><td title=\"5 6\">34.0</td><td title=\"6 6\">35.0</td><td title=\"7 6\">36.0</td><td title=\"8 6\"></td></tr>\n",
       "<tr><td title=\"0 7\"></td><td style=\"background-color:Aqua\" title=\"1 7\">13.0</td><td style=\"background-color:Aqua\" title=\"2 7\">14.0</td><td style=\"background-color:Aqua\" title=\"3 7\">15.0</td><td title=\"4 7\"></td><td title=\"5 7\">37.0</td><td title=\"6 7\">38.0</td><td title=\"7 7\">39.0</td><td title=\"8 7\"></td></tr>\n",
       "<tr><td title=\"0 8\"></td><td style=\"background-color:Aqua\" title=\"1 8\">16.0</td><td style=\"background-color:Aqua\" title=\"2 8\">17.0</td><td style=\"background-color:Aqua\" title=\"3 8\">18.0</td><td title=\"4 8\"></td><td title=\"5 8\">40.0</td><td title=\"6 8\">41.0</td><td title=\"7 8\">42.0</td><td title=\"8 8\"></td></tr>\n",
       "<tr><td title=\"0 9\"></td><td style=\"background-color:Aqua\" title=\"1 9\">19.0</td><td style=\"background-color:Aqua\" title=\"2 9\">20.0</td><td style=\"background-color:Aqua\" title=\"3 9\">21.0</td><td title=\"4 9\"></td><td title=\"5 9\">43.0</td><td title=\"6 9\">44.0</td><td title=\"7 9\">45.0</td><td title=\"8 9\"></td></tr>\n",
       "<tr><td title=\"0 10\"></td><td style=\"background-color:Aqua\" title=\"1 10\">22.0</td><td style=\"background-color:Aqua\" title=\"2 10\">23.0</td><td style=\"background-color:Aqua\" title=\"3 10\">24.0</td><td title=\"4 10\"></td><td title=\"5 10\">46.0</td><td title=\"6 10\">47.0</td><td title=\"7 10\">48.0</td><td title=\"8 10\"></td></tr>\n",
       "<tr><td title=\"0 11\"></td><td title=\"1 11\"></td><td title=\"2 11\"></td><td title=\"3 11\"></td><td title=\"4 11\"></td><td title=\"5 11\"></td><td title=\"6 11\">Age3</td><td title=\"7 11\"></td><td title=\"8 11\"></td></tr>\n",
       "<tr><td title=\"0 12\"></td><td title=\"1 12\"></td><td title=\"2 12\"></td><td title=\"3 12\"></td><td title=\"4 12\"></td><td title=\"5 12\"></td><td title=\"6 12\"></td><td title=\"7 12\"></td><td title=\"8 12\"></td></tr>\n",
       "<tr><td title=\"0 13\"></td><td title=\"1 13\"></td><td title=\"2 13\"></td><td title=\"3 13\"></td><td title=\"4 13\"></td><td title=\"5 13\"></td><td title=\"6 13\"></td><td title=\"7 13\"></td><td title=\"8 13\"></td></tr>\n",
       "<tr><td title=\"0 14\"></td><td title=\"1 14\"></td><td title=\"2 14\"></td><td title=\"3 14\"></td><td title=\"4 14\"></td><td title=\"5 14\"></td><td title=\"6 14\"></td><td title=\"7 14\"></td><td title=\"8 14\"></td></tr>\n",
       "<tr><td title=\"0 15\"></td><td title=\"1 15\">49.0</td><td title=\"2 15\">50.0</td><td title=\"3 15\">51.0</td><td title=\"4 15\"></td><td title=\"5 15\">73.0</td><td title=\"6 15\">74.0</td><td title=\"7 15\">75.0</td><td title=\"8 15\"></td></tr>\n",
       "<tr><td title=\"0 16\"></td><td title=\"1 16\">52.0</td><td title=\"2 16\">53.0</td><td title=\"3 16\">54.0</td><td title=\"4 16\"></td><td title=\"5 16\">76.0</td><td title=\"6 16\">77.0</td><td title=\"7 16\">78.0</td><td title=\"8 16\"></td></tr>\n",
       "<tr><td title=\"0 17\"></td><td title=\"1 17\">55.0</td><td title=\"2 17\">56.0</td><td title=\"3 17\">57.0</td><td title=\"4 17\"></td><td title=\"5 17\">79.0</td><td title=\"6 17\">80.0</td><td title=\"7 17\">81.0</td><td title=\"8 17\"></td></tr>\n",
       "<tr><td title=\"0 18\">Age2</td><td title=\"1 18\">58.0</td><td title=\"2 18\">59.0</td><td title=\"3 18\">60.0</td><td title=\"4 18\"></td><td title=\"5 18\">82.0</td><td title=\"6 18\">83.0</td><td title=\"7 18\">84.0</td><td title=\"8 18\"></td></tr>\n",
       "<tr><td title=\"0 19\"></td><td title=\"1 19\">61.0</td><td title=\"2 19\">62.0</td><td title=\"3 19\">63.0</td><td title=\"4 19\"></td><td title=\"5 19\">85.0</td><td title=\"6 19\">86.0</td><td title=\"7 19\">87.0</td><td title=\"8 19\">Age4</td></tr>\n",
       "<tr><td title=\"0 20\"></td><td title=\"1 20\">64.0</td><td title=\"2 20\">65.0</td><td title=\"3 20\">66.0</td><td title=\"4 20\"></td><td title=\"5 20\">88.0</td><td title=\"6 20\">89.0</td><td title=\"7 20\">90.0</td><td title=\"8 20\"></td></tr>\n",
       "<tr><td title=\"0 21\"></td><td title=\"1 21\">67.0</td><td title=\"2 21\">68.0</td><td title=\"3 21\">69.0</td><td title=\"4 21\"></td><td title=\"5 21\">91.0</td><td title=\"6 21\">92.0</td><td title=\"7 21\">93.0</td><td title=\"8 21\"></td></tr>\n",
       "<tr><td title=\"0 22\"></td><td title=\"1 22\">70.0</td><td title=\"2 22\">71.0</td><td title=\"3 22\">72.0</td><td title=\"4 22\"></td><td title=\"5 22\">94.0</td><td title=\"6 22\">95.0</td><td title=\"7 22\">96.0</td><td title=\"8 22\"></td></tr>\n",
       "</table>\n",
       "\n",
       "</div>\n",
       "\n",
       "<script>\n",
       "var jslookup = {\"2 5\":[2,2],\"2 6\":[2,2],\"3 6\":[2,2],\"2 7\":[2,2],\"3 10\":[2,2],\"1 8\":[2,2],\"2 9\":[2,2],\"2 3\":[2,2],\"1 10\":[2,2],\"1 3\":[2,2],\"3 8\":[2,2],\"1 5\":[2,2],\"3 7\":[2,2],\"1 9\":[2,2],\"1 7\":[2,2],\"2 4\":[2,2],\"3 3\":[2,2],\"1 6\":[2,2],\"3 4\":[2,2],\"3 9\":[2,2],\"2 10\":[2,2],\"1 4\":[2,2],\"2 8\":[2,2],\"3 5\":[2,2]}; \n",
       "var jdividNUM = \"injblock1001\"; \n",
       "var Dclickedcell = null; \n",
       "function clickedcell() \n",
       "{ \n",
       "    Dclickedcell = this; \n",
       "    console.log(\"jjjj\", this); \n",
       "    var rgc = new RegExp('(^|\\b)' + \"selected\".split(' ').join('|') + '(\\b|$)', 'gi'); \n",
       "    Array.prototype.forEach.call(document.querySelectorAll(\"div#\"+jdividNUM+\" table.ex td.selected\"), function(el, i) { \n",
       "        if (el.classList)  el.classList.remove(\"selected\");\n",
       "        else  el.className = el.className.replace(rgc, ' ');\n",
       "    }); \n",
       "    if (this.classList)  this.classList.add(\"selected\");\n",
       "    else this.className += ' ' + \"selected\";\n",
       "\n",
       "    var dimpairs = jslookup[this.title]; \n",
       "    if (dimpairs !== undefined) {\n",
       "        for (var i = 1; i < dimpairs.length; i += 2) {\n",
       "            var row = document.querySelectorAll(\"div#\"+jdividNUM+\" table.ex tr\")[dimpairs[i]]; \n",
       "            var el = row.querySelectorAll(\"td\")[dimpairs[i-1]]; \n",
       "            if (el.classList)  el.classList.add(\"selected\");\n",
       "            else el.className += ' ' + \"selected\";\n",
       "        }\n",
       "    }\n",
       "}\n",
       "Array.prototype.forEach.call(document.querySelectorAll(\"div#\"+jdividNUM+\" table.ex td\"), function(item, i) { item.onclick=clickedcell; }); \n",
       "</script>\n"
      ],
      "text/plain": [
       "<IPython.core.display.HTML object>"
      ]
     },
     "metadata": {},
     "output_type": "display_data"
    },
    {
     "data": {
      "text/html": [
       "<div>\n",
       "<style scoped>\n",
       "    .dataframe tbody tr th:only-of-type {\n",
       "        vertical-align: middle;\n",
       "    }\n",
       "\n",
       "    .dataframe tbody tr th {\n",
       "        vertical-align: top;\n",
       "    }\n",
       "\n",
       "    .dataframe thead th {\n",
       "        text-align: right;\n",
       "    }\n",
       "</style>\n",
       "<table border=\"1\" class=\"dataframe\">\n",
       "  <thead>\n",
       "    <tr style=\"text-align: right;\">\n",
       "      <th></th>\n",
       "      <th>OBS</th>\n",
       "      <th>Age1</th>\n",
       "    </tr>\n",
       "  </thead>\n",
       "  <tbody>\n",
       "    <tr>\n",
       "      <th>0</th>\n",
       "      <td>1.0</td>\n",
       "      <td>Age1</td>\n",
       "    </tr>\n",
       "    <tr>\n",
       "      <th>1</th>\n",
       "      <td>2.0</td>\n",
       "      <td>Age1</td>\n",
       "    </tr>\n",
       "    <tr>\n",
       "      <th>2</th>\n",
       "      <td>3.0</td>\n",
       "      <td>Age1</td>\n",
       "    </tr>\n",
       "    <tr>\n",
       "      <th>3</th>\n",
       "      <td>4.0</td>\n",
       "      <td>Age1</td>\n",
       "    </tr>\n",
       "    <tr>\n",
       "      <th>4</th>\n",
       "      <td>5.0</td>\n",
       "      <td>Age1</td>\n",
       "    </tr>\n",
       "  </tbody>\n",
       "</table>\n",
       "</div>"
      ],
      "text/plain": [
       "   OBS  Age1\n",
       "0  1.0  Age1\n",
       "1  2.0  Age1\n",
       "2  3.0  Age1\n",
       "3  4.0  Age1\n",
       "4  5.0  Age1"
      ]
     },
     "execution_count": 3,
     "metadata": {},
     "output_type": "execute_result"
    }
   ],
   "source": [
    "# NOTE - you can run me!\n",
    "\n",
    "from databaker.lookupengines.within import WITHIN\n",
    "# Capturing the observations in the usual manner\n",
    "age1 = tab.excel_ref(\"3\").is_not_blank()\n",
    "\n",
    "# Defining the relationship using WITHIN ABOVE\n",
    "\n",
    "# The range specified is 1 to the left and 1 to the right.\n",
    "# This order indicates that for any given observation, WITHIN will lookup\n",
    "# the dimension header travelling left to right.\n",
    "\n",
    "# ABOVE is used in the same way as previous transforms. We travel row-by-row\n",
    "# but in an upwards direction\n",
    "\n",
    "obs = tab.excel_ref('B4:D12').is_not_blank()\n",
    "dimensions = [\n",
    "    HDim(age1, \"Age1\", WITHIN(left=1, right=1), ABOVE)\n",
    "]\n",
    "\n",
    "cs = ConversionSegment(tab, dimensions, obs)\n",
    "savepreviewhtml(cs)\n",
    "cs.topandas()[:5]"
   ]
  },
  {
   "cell_type": "markdown",
   "id": "e28223fd-8a67-4493-8ceb-8ed57bd633fd",
   "metadata": {},
   "source": [
    "### WITHIN LEFT Example\n",
    "\n",
    "![](./images/WITHIN_Example2.png)\n",
    "\n",
    "In exactly the same way as WITHIN ABOVE, here the dimension is in the centre of the observations but to the left.\n",
    "\n",
    "We can define this relationship by specifying the range given to WITHIN as \"above=x\" and \"below=y\"\n"
   ]
  },
  {
   "cell_type": "code",
   "execution_count": 10,
   "id": "a2daa603-c7b5-4042-bf78-34d80d87e7ef",
   "metadata": {},
   "outputs": [
    {
     "data": {
      "text/html": [
       "<div id=\"injblock1007\">\n",
       "<style>\n",
       "table.ex, table.exkey { border: thin black solid }\n",
       "table.ex td, table.ex tr { border: none }\n",
       "table.ex td:hover { border: thin blue solid }\n",
       "table.ex td.excOBS:hover { border: thin red solid }\n",
       "table.ex td.selected { border: thick red solid }\n",
       "</style>\n",
       "\n",
       "\n",
       "<table class=\"exkey\">\n",
       "<tr><td class=\"xc0\" style=\"background-color:Aqua\">OBS</td><td class=\"xc1\" style=\"background-color:LightGreen\">Age2</td></tr></table>\n",
       "\n",
       "<table class=\"ex\">\n",
       "<caption style=\"text-align:center; padding:0px; caption-side:bottom\">Sheet1</caption>\n",
       "<tr><td title=\"0 0\"></td><td title=\"1 0\"></td><td title=\"2 0\"></td><td title=\"3 0\"></td><td title=\"4 0\"></td><td title=\"5 0\"></td><td title=\"6 0\"></td><td title=\"7 0\"></td><td title=\"8 0\"></td></tr>\n",
       "<tr><td title=\"0 1\"></td><td title=\"1 1\"></td><td title=\"2 1\"></td><td title=\"3 1\"></td><td title=\"4 1\"></td><td title=\"5 1\"></td><td title=\"6 1\"></td><td title=\"7 1\"></td><td title=\"8 1\"></td></tr>\n",
       "<tr><td title=\"0 2\"></td><td title=\"1 2\"></td><td title=\"2 2\">Age1</td><td title=\"3 2\"></td><td title=\"4 2\"></td><td title=\"5 2\"></td><td title=\"6 2\"></td><td title=\"7 2\"></td><td title=\"8 2\"></td></tr>\n",
       "<tr><td title=\"0 3\"></td><td title=\"1 3\">1.0</td><td title=\"2 3\">2.0</td><td title=\"3 3\">3.0</td><td title=\"4 3\"></td><td title=\"5 3\">25.0</td><td title=\"6 3\">26.0</td><td title=\"7 3\">27.0</td><td title=\"8 3\"></td></tr>\n",
       "<tr><td title=\"0 4\"></td><td title=\"1 4\">4.0</td><td title=\"2 4\">5.0</td><td title=\"3 4\">6.0</td><td title=\"4 4\"></td><td title=\"5 4\">28.0</td><td title=\"6 4\">29.0</td><td title=\"7 4\">30.0</td><td title=\"8 4\"></td></tr>\n",
       "<tr><td title=\"0 5\"></td><td title=\"1 5\">7.0</td><td title=\"2 5\">8.0</td><td title=\"3 5\">9.0</td><td title=\"4 5\"></td><td title=\"5 5\">31.0</td><td title=\"6 5\">32.0</td><td title=\"7 5\">33.0</td><td title=\"8 5\"></td></tr>\n",
       "<tr><td title=\"0 6\"></td><td title=\"1 6\">10.0</td><td title=\"2 6\">11.0</td><td title=\"3 6\">12.0</td><td title=\"4 6\"></td><td title=\"5 6\">34.0</td><td title=\"6 6\">35.0</td><td title=\"7 6\">36.0</td><td title=\"8 6\"></td></tr>\n",
       "<tr><td title=\"0 7\"></td><td title=\"1 7\">13.0</td><td title=\"2 7\">14.0</td><td title=\"3 7\">15.0</td><td title=\"4 7\"></td><td title=\"5 7\">37.0</td><td title=\"6 7\">38.0</td><td title=\"7 7\">39.0</td><td title=\"8 7\"></td></tr>\n",
       "<tr><td title=\"0 8\"></td><td title=\"1 8\">16.0</td><td title=\"2 8\">17.0</td><td title=\"3 8\">18.0</td><td title=\"4 8\"></td><td title=\"5 8\">40.0</td><td title=\"6 8\">41.0</td><td title=\"7 8\">42.0</td><td title=\"8 8\"></td></tr>\n",
       "<tr><td title=\"0 9\"></td><td title=\"1 9\">19.0</td><td title=\"2 9\">20.0</td><td title=\"3 9\">21.0</td><td title=\"4 9\"></td><td title=\"5 9\">43.0</td><td title=\"6 9\">44.0</td><td title=\"7 9\">45.0</td><td title=\"8 9\"></td></tr>\n",
       "<tr><td title=\"0 10\"></td><td title=\"1 10\">22.0</td><td title=\"2 10\">23.0</td><td title=\"3 10\">24.0</td><td title=\"4 10\"></td><td title=\"5 10\">46.0</td><td title=\"6 10\">47.0</td><td title=\"7 10\">48.0</td><td title=\"8 10\"></td></tr>\n",
       "<tr><td title=\"0 11\"></td><td title=\"1 11\"></td><td title=\"2 11\"></td><td title=\"3 11\"></td><td title=\"4 11\"></td><td title=\"5 11\"></td><td title=\"6 11\">Age3</td><td title=\"7 11\"></td><td title=\"8 11\"></td></tr>\n",
       "<tr><td title=\"0 12\"></td><td title=\"1 12\"></td><td title=\"2 12\"></td><td title=\"3 12\"></td><td title=\"4 12\"></td><td title=\"5 12\"></td><td title=\"6 12\"></td><td title=\"7 12\"></td><td title=\"8 12\"></td></tr>\n",
       "<tr><td title=\"0 13\"></td><td title=\"1 13\"></td><td title=\"2 13\"></td><td title=\"3 13\"></td><td title=\"4 13\"></td><td title=\"5 13\"></td><td title=\"6 13\"></td><td title=\"7 13\"></td><td title=\"8 13\"></td></tr>\n",
       "<tr><td title=\"0 14\"></td><td title=\"1 14\"></td><td title=\"2 14\"></td><td title=\"3 14\"></td><td title=\"4 14\"></td><td title=\"5 14\"></td><td title=\"6 14\"></td><td title=\"7 14\"></td><td title=\"8 14\"></td></tr>\n",
       "<tr><td title=\"0 15\"></td><td style=\"background-color:Aqua\" title=\"1 15\">49.0</td><td style=\"background-color:Aqua\" title=\"2 15\">50.0</td><td style=\"background-color:Aqua\" title=\"3 15\">51.0</td><td title=\"4 15\"></td><td title=\"5 15\">73.0</td><td title=\"6 15\">74.0</td><td title=\"7 15\">75.0</td><td title=\"8 15\"></td></tr>\n",
       "<tr><td title=\"0 16\"></td><td style=\"background-color:Aqua\" title=\"1 16\">52.0</td><td style=\"background-color:Aqua\" title=\"2 16\">53.0</td><td style=\"background-color:Aqua\" title=\"3 16\">54.0</td><td title=\"4 16\"></td><td title=\"5 16\">76.0</td><td title=\"6 16\">77.0</td><td title=\"7 16\">78.0</td><td title=\"8 16\"></td></tr>\n",
       "<tr><td title=\"0 17\"></td><td style=\"background-color:Aqua\" title=\"1 17\">55.0</td><td style=\"background-color:Aqua\" title=\"2 17\">56.0</td><td style=\"background-color:Aqua\" title=\"3 17\">57.0</td><td title=\"4 17\"></td><td title=\"5 17\">79.0</td><td title=\"6 17\">80.0</td><td title=\"7 17\">81.0</td><td title=\"8 17\"></td></tr>\n",
       "<tr><td style=\"background-color:LightGreen\" title=\"0 18\">Age2</td><td style=\"background-color:Aqua\" title=\"1 18\">58.0</td><td style=\"background-color:Aqua\" title=\"2 18\">59.0</td><td style=\"background-color:Aqua\" title=\"3 18\">60.0</td><td title=\"4 18\"></td><td title=\"5 18\">82.0</td><td title=\"6 18\">83.0</td><td title=\"7 18\">84.0</td><td title=\"8 18\"></td></tr>\n",
       "<tr><td title=\"0 19\"></td><td style=\"background-color:Aqua\" title=\"1 19\">61.0</td><td style=\"background-color:Aqua\" title=\"2 19\">62.0</td><td style=\"background-color:Aqua\" title=\"3 19\">63.0</td><td title=\"4 19\"></td><td title=\"5 19\">85.0</td><td title=\"6 19\">86.0</td><td title=\"7 19\">87.0</td><td title=\"8 19\">Age4</td></tr>\n",
       "<tr><td title=\"0 20\"></td><td style=\"background-color:Aqua\" title=\"1 20\">64.0</td><td style=\"background-color:Aqua\" title=\"2 20\">65.0</td><td style=\"background-color:Aqua\" title=\"3 20\">66.0</td><td title=\"4 20\"></td><td title=\"5 20\">88.0</td><td title=\"6 20\">89.0</td><td title=\"7 20\">90.0</td><td title=\"8 20\"></td></tr>\n",
       "<tr><td title=\"0 21\"></td><td style=\"background-color:Aqua\" title=\"1 21\">67.0</td><td style=\"background-color:Aqua\" title=\"2 21\">68.0</td><td style=\"background-color:Aqua\" title=\"3 21\">69.0</td><td title=\"4 21\"></td><td title=\"5 21\">91.0</td><td title=\"6 21\">92.0</td><td title=\"7 21\">93.0</td><td title=\"8 21\"></td></tr>\n",
       "<tr><td title=\"0 22\"></td><td style=\"background-color:Aqua\" title=\"1 22\">70.0</td><td style=\"background-color:Aqua\" title=\"2 22\">71.0</td><td style=\"background-color:Aqua\" title=\"3 22\">72.0</td><td title=\"4 22\"></td><td title=\"5 22\">94.0</td><td title=\"6 22\">95.0</td><td title=\"7 22\">96.0</td><td title=\"8 22\"></td></tr>\n",
       "</table>\n",
       "\n",
       "</div>\n",
       "\n",
       "<script>\n",
       "var jslookup = {\"1 21\":[0,18],\"1 22\":[0,18],\"2 18\":[0,18],\"1 18\":[0,18],\"2 19\":[0,18],\"1 20\":[0,18],\"3 22\":[0,18],\"2 17\":[0,18],\"3 16\":[0,18],\"1 19\":[0,18],\"3 21\":[0,18],\"1 16\":[0,18],\"2 15\":[0,18],\"2 21\":[0,18],\"3 20\":[0,18],\"1 15\":[0,18],\"3 18\":[0,18],\"2 20\":[0,18],\"3 17\":[0,18],\"1 17\":[0,18],\"3 15\":[0,18],\"2 16\":[0,18],\"2 22\":[0,18],\"3 19\":[0,18]}; \n",
       "var jdividNUM = \"injblock1007\"; \n",
       "var Dclickedcell = null; \n",
       "function clickedcell() \n",
       "{ \n",
       "    Dclickedcell = this; \n",
       "    console.log(\"jjjj\", this); \n",
       "    var rgc = new RegExp('(^|\\b)' + \"selected\".split(' ').join('|') + '(\\b|$)', 'gi'); \n",
       "    Array.prototype.forEach.call(document.querySelectorAll(\"div#\"+jdividNUM+\" table.ex td.selected\"), function(el, i) { \n",
       "        if (el.classList)  el.classList.remove(\"selected\");\n",
       "        else  el.className = el.className.replace(rgc, ' ');\n",
       "    }); \n",
       "    if (this.classList)  this.classList.add(\"selected\");\n",
       "    else this.className += ' ' + \"selected\";\n",
       "\n",
       "    var dimpairs = jslookup[this.title]; \n",
       "    if (dimpairs !== undefined) {\n",
       "        for (var i = 1; i < dimpairs.length; i += 2) {\n",
       "            var row = document.querySelectorAll(\"div#\"+jdividNUM+\" table.ex tr\")[dimpairs[i]]; \n",
       "            var el = row.querySelectorAll(\"td\")[dimpairs[i-1]]; \n",
       "            if (el.classList)  el.classList.add(\"selected\");\n",
       "            else el.className += ' ' + \"selected\";\n",
       "        }\n",
       "    }\n",
       "}\n",
       "Array.prototype.forEach.call(document.querySelectorAll(\"div#\"+jdividNUM+\" table.ex td\"), function(item, i) { item.onclick=clickedcell; }); \n",
       "</script>\n"
      ],
      "text/plain": [
       "<IPython.core.display.HTML object>"
      ]
     },
     "metadata": {},
     "output_type": "display_data"
    },
    {
     "data": {
      "text/html": [
       "<div>\n",
       "<style scoped>\n",
       "    .dataframe tbody tr th:only-of-type {\n",
       "        vertical-align: middle;\n",
       "    }\n",
       "\n",
       "    .dataframe tbody tr th {\n",
       "        vertical-align: top;\n",
       "    }\n",
       "\n",
       "    .dataframe thead th {\n",
       "        text-align: right;\n",
       "    }\n",
       "</style>\n",
       "<table border=\"1\" class=\"dataframe\">\n",
       "  <thead>\n",
       "    <tr style=\"text-align: right;\">\n",
       "      <th></th>\n",
       "      <th>OBS</th>\n",
       "      <th>Age2</th>\n",
       "    </tr>\n",
       "  </thead>\n",
       "  <tbody>\n",
       "    <tr>\n",
       "      <th>0</th>\n",
       "      <td>49.0</td>\n",
       "      <td>Age2</td>\n",
       "    </tr>\n",
       "    <tr>\n",
       "      <th>1</th>\n",
       "      <td>50.0</td>\n",
       "      <td>Age2</td>\n",
       "    </tr>\n",
       "    <tr>\n",
       "      <th>2</th>\n",
       "      <td>51.0</td>\n",
       "      <td>Age2</td>\n",
       "    </tr>\n",
       "    <tr>\n",
       "      <th>3</th>\n",
       "      <td>52.0</td>\n",
       "      <td>Age2</td>\n",
       "    </tr>\n",
       "    <tr>\n",
       "      <th>4</th>\n",
       "      <td>53.0</td>\n",
       "      <td>Age2</td>\n",
       "    </tr>\n",
       "  </tbody>\n",
       "</table>\n",
       "</div>"
      ],
      "text/plain": [
       "    OBS  Age2\n",
       "0  49.0  Age2\n",
       "1  50.0  Age2\n",
       "2  51.0  Age2\n",
       "3  52.0  Age2\n",
       "4  53.0  Age2"
      ]
     },
     "execution_count": 10,
     "metadata": {},
     "output_type": "execute_result"
    }
   ],
   "source": [
    "# NOTE - you can run me!\n",
    "\n",
    "# Capturing the observations in the usual manner\n",
    "age2 = tab.excel_ref(\"A\").is_not_blank()\n",
    "\n",
    "# Defining the relationship using WITHIN BELOW\n",
    "\n",
    "# The range specified is 4 beneath and 3 above.\n",
    "# This order indicates that for any given observation, WITHIN will lookup\n",
    "# the dimension header travelling bottom to top.\n",
    "\n",
    "# LEFT is used in the same way as previous transforms. We travel\n",
    "# column-by-column but in an leftwards direction.\n",
    "obs = tab.excel_ref('B16:D40').is_not_blank()\n",
    "dimensions = [\n",
    "    HDim(age2, \"Age2\", WITHIN(below=4, above=4), LEFT)\n",
    "]\n",
    "\n",
    "cs = ConversionSegment(tab, dimensions, obs)\n",
    "savepreviewhtml(cs)\n",
    "cs.topandas()[:5]"
   ]
  },
  {
   "cell_type": "markdown",
   "id": "216ea69d-389e-4d0c-b09e-d38156563d87",
   "metadata": {},
   "source": [
    "### EXERCISES:\n",
    "\n",
    "The two remaining tables have dimensions either below or to the right of the observations.\n",
    "\n",
    "Use the WITHIN keyword to capture these relationships.\n",
    "\n",
    "**Useful Hint:** The order in which the range is supplied to WITHIN will determine how the dimension is looked up. E.g. \"WITHIN(left=1, right=1), ABOVE\"    indicates that the lookup is travelling left to right from a given observation and travelling row-by-row in an upwards direction."
   ]
  },
  {
   "cell_type": "code",
   "execution_count": 11,
   "id": "beacb6ff-39e9-46ad-8a4c-722c7aa804c9",
   "metadata": {},
   "outputs": [],
   "source": [
    "# AGE 3\n",
    "\n",
    "age3 ="
   ]
  },
  {
   "cell_type": "code",
   "execution_count": null,
   "id": "cd669f56-e8da-49ae-8f8b-26d7ac0a0f8b",
   "metadata": {},
   "outputs": [],
   "source": [
    "# AGE 4\n",
    "\n",
    "age4 = "
   ]
  },
  {
   "cell_type": "code",
   "execution_count": null,
   "id": "6feac251-7df5-4ae2-a1d6-c2352aa86946",
   "metadata": {},
   "outputs": [],
   "source": []
  },
  {
   "cell_type": "code",
   "execution_count": null,
   "id": "8838777a-ec5e-4038-84d8-335721a73ccd",
   "metadata": {},
   "outputs": [],
   "source": []
  }
 ],
 "metadata": {
  "kernelspec": {
   "display_name": "Python 3",
   "language": "python",
   "name": "python3"
  },
  "language_info": {
   "codemirror_mode": {
    "name": "ipython",
    "version": 3
   },
   "file_extension": ".py",
   "mimetype": "text/x-python",
   "name": "python",
   "nbconvert_exporter": "python",
   "pygments_lexer": "ipython3",
   "version": "3.8.7"
  }
 },
 "nbformat": 4,
 "nbformat_minor": 5
}
