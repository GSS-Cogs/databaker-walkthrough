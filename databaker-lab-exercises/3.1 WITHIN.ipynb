{
 "cells": [
  {
   "cell_type": "markdown",
   "id": "15e5af6c-8090-4420-b3c5-6e0206e49ea4",
   "metadata": {},
   "source": [
    "# WITHIN Exercise\n",
    "\n",
    "This exercise uses a different test dataset (databakerWithinExapmle.xls) to demonstrate how the WITHIN keyword can be used for when the cells we want are both LEFT and RIGHT, relative to different observations cells.\n",
    "\n",
    "All code cells in this notebook can be run directly, by selecting the cell then the play icon on the above ribbon.\n",
    "\n"
   ]
  },
  {
   "cell_type": "markdown",
   "id": "96e58c66-598f-432b-a2e2-7e434f267912",
   "metadata": {},
   "source": [
    "### WITHIN ABOVE Example\n",
    "\n",
    "![](./images/WITHIN_Example1.png)\n",
    "\n",
    "Given this table, the relationship between the age1 dimension is both LEFT and RIGHT, realtive to a given observation.\n",
    "\n",
    "We can use the WITHIN keyword when defining the relationship to specift that the dimension is within a given range above the observations.\n"
   ]
  },
  {
   "cell_type": "code",
   "execution_count": 1,
   "id": "536d5ce3-a571-4a3f-9b0c-9fcb30bdd1db",
   "metadata": {},
   "outputs": [
    {
     "data": {
      "text/markdown": [
       "**Example dataset 2**\n"
      ],
      "text/plain": [
       "<IPython.core.display.Markdown object>"
      ]
     },
     "metadata": {},
     "output_type": "display_data"
    },
    {
     "data": {
      "text/markdown": [
       "this is an example dataset for the WITHIN walkthrough.\n"
      ],
      "text/plain": [
       "<IPython.core.display.Markdown object>"
      ]
     },
     "metadata": {},
     "output_type": "display_data"
    },
    {
     "data": {
      "text/plain": []
     },
     "execution_count": 1,
     "metadata": {},
     "output_type": "execute_result"
    }
   ],
   "source": [
    "# NOTE - you can run me!\n",
    "\n",
    "# Acquisition\n",
    "\n",
    "from databaker.framework import *\n",
    "from tutorialResources.scraper import Scraper\n",
    "\n",
    "scraper = Scraper(\"https://www.fake-website.com/within-example1\")\n",
    "scraper"
   ]
  },
  {
   "cell_type": "code",
   "execution_count": 4,
   "id": "34c95ab4-8250-432f-a3fd-65225b70e973",
   "metadata": {},
   "outputs": [],
   "source": [
    "# NOTE - you can run me!\n",
    "\n",
    "# Defining data containing tab\n",
    "\n",
    "tabs = scraper.distribution.as_databaker()\n",
    "\n",
    "tab = tabs[0]"
   ]
  },
  {
   "cell_type": "code",
   "execution_count": 10,
   "id": "2334634c-4e03-4b7a-a3cf-2536d589da9e",
   "metadata": {},
   "outputs": [
    {
     "ename": "NameError",
     "evalue": "name 'WITHIN' is not defined",
     "output_type": "error",
     "traceback": [
      "\u001b[0;31m---------------------------------------------------------------------------\u001b[0m",
      "\u001b[0;31mNameError\u001b[0m                                 Traceback (most recent call last)",
      "\u001b[0;32m<ipython-input-10-8c90c9256a0e>\u001b[0m in \u001b[0;36m<module>\u001b[0;34m\u001b[0m\n\u001b[1;32m      8\u001b[0m \u001b[0;31m# This order indicates that for any given observation, WITHIN will lookup\u001b[0m\u001b[0;34m\u001b[0m\u001b[0;34m\u001b[0m\u001b[0;34m\u001b[0m\u001b[0m\n\u001b[1;32m      9\u001b[0m dimensions = [\n\u001b[0;32m---> 10\u001b[0;31m     \u001b[0mHDim\u001b[0m\u001b[0;34m(\u001b[0m\u001b[0mage1\u001b[0m\u001b[0;34m,\u001b[0m \u001b[0;34m\"Age1\"\u001b[0m\u001b[0;34m,\u001b[0m \u001b[0mWITHIN\u001b[0m\u001b[0;34m(\u001b[0m\u001b[0mleft\u001b[0m\u001b[0;34m=\u001b[0m\u001b[0;36m1\u001b[0m\u001b[0;34m,\u001b[0m \u001b[0mright\u001b[0m\u001b[0;34m=\u001b[0m\u001b[0;36m1\u001b[0m\u001b[0;34m)\u001b[0m\u001b[0;34m,\u001b[0m \u001b[0mABOVE\u001b[0m\u001b[0;34m)\u001b[0m\u001b[0;34m\u001b[0m\u001b[0;34m\u001b[0m\u001b[0m\n\u001b[0m\u001b[1;32m     11\u001b[0m ]\n\u001b[1;32m     12\u001b[0m \u001b[0;34m\u001b[0m\u001b[0m\n",
      "\u001b[0;31mNameError\u001b[0m: name 'WITHIN' is not defined"
     ]
    }
   ],
   "source": [
    "# NOTE - you can run me!\n",
    "\n",
    "# Capturing the observations in the usual manner\n",
    "age1 = tab.excel_ref(\"B4:D11\")\n",
    "\n",
    "# Defining the relationship using WITHIN ABOVE\n",
    "\n",
    "# The range specified is 1 to the left and 1 to the right.\n",
    "# This order indicates that for any given observation, WITHIN will lookup\n",
    "# the dimension header travelling left to right.\n",
    "\n",
    "# ABOVE is used in the same way as previous transforms. We travel row-by-row\n",
    "# but in an upwards direction.\n",
    "\n",
    "dimensions = [\n",
    "    HDim(age1, \"Age1\", WITHIN(left=1, right=1), ABOVE)\n",
    "]\n",
    "\n",
    "savepreviewhtml(dimensions)"
   ]
  },
  {
   "cell_type": "markdown",
   "id": "e28223fd-8a67-4493-8ceb-8ed57bd633fd",
   "metadata": {},
   "source": [
    "### WITHIN LEFT Example\n",
    "\n",
    "![](./images/WITHIN_Example2.png)\n",
    "\n",
    "In exactly the same way as WITHIN ABOVE, here the dimension is in the centre of the observations but to the left.\n",
    "\n",
    "We can define this relationship by specifying the range given to WITHIN as \"above=x\" and \"below=y\"\n"
   ]
  },
  {
   "cell_type": "code",
   "execution_count": 6,
   "id": "a2daa603-c7b5-4042-bf78-34d80d87e7ef",
   "metadata": {},
   "outputs": [
    {
     "ename": "NameError",
     "evalue": "name 'WITHIN' is not defined",
     "output_type": "error",
     "traceback": [
      "\u001b[0;31m---------------------------------------------------------------------------\u001b[0m",
      "\u001b[0;31mNameError\u001b[0m                                 Traceback (most recent call last)",
      "\u001b[0;32m<ipython-input-6-98cd32adf26e>\u001b[0m in \u001b[0;36m<module>\u001b[0;34m\u001b[0m\n\u001b[1;32m      2\u001b[0m \u001b[0;34m\u001b[0m\u001b[0m\n\u001b[1;32m      3\u001b[0m dimensions = [\n\u001b[0;32m----> 4\u001b[0;31m     \u001b[0mHDim\u001b[0m\u001b[0;34m(\u001b[0m\u001b[0mage1\u001b[0m\u001b[0;34m,\u001b[0m \u001b[0;34m\"Age2\"\u001b[0m\u001b[0;34m,\u001b[0m \u001b[0mWITHIN\u001b[0m\u001b[0;34m(\u001b[0m\u001b[0mabove\u001b[0m\u001b[0;34m=\u001b[0m\u001b[0;36m4\u001b[0m\u001b[0;34m,\u001b[0m \u001b[0mbelow\u001b[0m\u001b[0;34m=\u001b[0m\u001b[0;36m3\u001b[0m\u001b[0;34m)\u001b[0m\u001b[0;34m,\u001b[0m \u001b[0mLEFT\u001b[0m\u001b[0;34m)\u001b[0m\u001b[0;34m\u001b[0m\u001b[0;34m\u001b[0m\u001b[0m\n\u001b[0m\u001b[1;32m      5\u001b[0m ]\n\u001b[1;32m      6\u001b[0m \u001b[0msavepreviewhtml\u001b[0m\u001b[0;34m(\u001b[0m\u001b[0mdimensions\u001b[0m\u001b[0;34m)\u001b[0m\u001b[0;34m\u001b[0m\u001b[0;34m\u001b[0m\u001b[0m\n",
      "\u001b[0;31mNameError\u001b[0m: name 'WITHIN' is not defined"
     ]
    }
   ],
   "source": [
    "# NOTE - you can run me!\n",
    "\n",
    "# Capturing the observations in the usual manner\n",
    "age2 = tab.excel_ref(\"B16:D23\")\n",
    "\n",
    "# Defining the relationship using WITHIN BELOW\n",
    "\n",
    "# The range specified is 4 beneath and 3 above.\n",
    "# This order indicates that for any given observation, WITHIN will lookup\n",
    "# the dimension header travelling top to bottom.\n",
    "\n",
    "# LEFT is used in the same way as previous transforms. We travel\n",
    "# column-by-column but in an leftwards direction.\n",
    "dimensions = [\n",
    "    HDim(age1, \"Age2\", WITHIN(above=4, below=3), LEFT)\n",
    "]\n",
    "\n",
    "savepreviewhtml(dimensions)"
   ]
  },
  {
   "cell_type": "markdown",
   "id": "216ea69d-389e-4d0c-b09e-d38156563d87",
   "metadata": {},
   "source": [
    "### EXERCISES:\n",
    "\n",
    "The two remaining tables have dimensions either below or to the right of the observations.\n",
    "\n",
    "Use the WITHIN keyword to capture these relationships.\n",
    "\n",
    "**Useful Hint:** The order in which the range is supplied to WITHIN will determine how the dimension is looked up. E.g. \"WITHIN(left=1, right=1), ABOVE\"    indicates that the lookup is travelling left to right from a given observation and travelling row-by-row in an upwards direction."
   ]
  },
  {
   "cell_type": "code",
   "execution_count": 7,
   "id": "beacb6ff-39e9-46ad-8a4c-722c7aa804c9",
   "metadata": {},
   "outputs": [
    {
     "ename": "SyntaxError",
     "evalue": "invalid syntax (<ipython-input-7-fbd1b9681394>, line 3)",
     "output_type": "error",
     "traceback": [
      "\u001b[0;36m  File \u001b[0;32m\"<ipython-input-7-fbd1b9681394>\"\u001b[0;36m, line \u001b[0;32m3\u001b[0m\n\u001b[0;31m    age3 =\u001b[0m\n\u001b[0m          ^\u001b[0m\n\u001b[0;31mSyntaxError\u001b[0m\u001b[0;31m:\u001b[0m invalid syntax\n"
     ]
    }
   ],
   "source": [
    "# AGE 3\n",
    "\n",
    "age3 ="
   ]
  },
  {
   "cell_type": "code",
   "execution_count": 8,
   "id": "cd669f56-e8da-49ae-8f8b-26d7ac0a0f8b",
   "metadata": {},
   "outputs": [
    {
     "ename": "SyntaxError",
     "evalue": "invalid syntax (<ipython-input-8-2dfd13ea2e24>, line 3)",
     "output_type": "error",
     "traceback": [
      "\u001b[0;36m  File \u001b[0;32m\"<ipython-input-8-2dfd13ea2e24>\"\u001b[0;36m, line \u001b[0;32m3\u001b[0m\n\u001b[0;31m    age4 =\u001b[0m\n\u001b[0m           ^\u001b[0m\n\u001b[0;31mSyntaxError\u001b[0m\u001b[0;31m:\u001b[0m invalid syntax\n"
     ]
    }
   ],
   "source": [
    "# AGE 4\n",
    "\n",
    "age4 = "
   ]
  },
  {
   "cell_type": "code",
   "execution_count": null,
   "id": "6feac251-7df5-4ae2-a1d6-c2352aa86946",
   "metadata": {},
   "outputs": [],
   "source": []
  }
 ],
 "metadata": {
  "kernelspec": {
   "display_name": "Python 3",
   "language": "python",
   "name": "python3"
  },
  "language_info": {
   "codemirror_mode": {
    "name": "ipython",
    "version": 3
   },
   "file_extension": ".py",
   "mimetype": "text/x-python",
   "name": "python",
   "nbconvert_exporter": "python",
   "pygments_lexer": "ipython3",
   "version": "3.7.9"
  }
 },
 "nbformat": 4,
 "nbformat_minor": 5
}
