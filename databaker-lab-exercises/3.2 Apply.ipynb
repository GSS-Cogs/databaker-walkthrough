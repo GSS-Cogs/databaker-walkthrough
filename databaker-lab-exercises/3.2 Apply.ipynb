{
 "cells": [
  {
   "cell_type": "code",
   "execution_count": null,
   "id": "424ee332-e4ac-4035-8f85-21d133eac161",
   "metadata": {},
   "outputs": [],
   "source": [
    "import pandas as pd\n",
    "from databaker.framework import *\n",
    "from tutorialResources.scraper import Scraper\n",
    "\n",
    "scraper = Scraper(\"https://www.fake-website.com/example1\")\n",
    "\n",
    "tabs = scraper.distribution.as_databaker()\n"
   ]
  },
  {
   "cell_type": "markdown",
   "id": "b0da7441-0870-4515-8bac-a76c34d5ea3c",
   "metadata": {},
   "source": [
    "# Apply\n",
    "\n",
    "The databaker apply keyword is a means to pass a callable (a function, a class or a lambda function) into a HDim constructor.\n",
    "\n",
    "There are two drivers for this:\n",
    "    \n",
    "- Simplification of transforms\n",
    "- Performance - if you modify something before you pivot it, it's **very** efficient compared to post processing.\n",
    "\n",
    "The following is just the unmodified transform."
   ]
  },
  {
   "cell_type": "code",
   "execution_count": null,
   "id": "2baed84c-1c55-4f10-90dd-d63a6f22e9e3",
   "metadata": {},
   "outputs": [],
   "source": [
    "\n",
    "tidied_sheets = []\n",
    "for tab in tabs:       \n",
    "\n",
    "    # define a selection of cells as the observations\n",
    "    observations = tab.excel_ref('C5').expand(DOWN).expand(RIGHT).is_not_blank()\n",
    "    \n",
    "    # define other selections of cells to be our dimensions\n",
    "    assets = tab.excel_ref('C3').expand(RIGHT).is_not_blank()\n",
    "    names = tab.excel_ref('B5').expand(DOWN).is_not_blank()\n",
    "    group = tab.excel_ref('A5').expand(DOWN).is_not_blank()\n",
    "\n",
    "    #define the relationships of the cells selected as dimensions (relative to the observations)\n",
    "    dimensions = [\n",
    "              HDim(assets, \"Assets\", DIRECTLY, ABOVE), \n",
    "              HDim(names, \"Name\", DIRECTLY, LEFT), \n",
    "              HDim(group, \"Group\", CLOSEST, ABOVE) \n",
    "                 ]\n",
    "    \n",
    "    # Now we process these relationship for this tab (this code rarely changes)\n",
    "    tidy_sheet = ConversionSegment(tab, dimensions, observations) # < --- processing\n",
    "    #savepreviewhtml(tidy_sheet)\n",
    "    \n",
    "    tidied_sheets.append(tidy_sheet.topandas()) # <-- adding result of processing this tab to our list\n",
    "    \n",
    "output = pd.concat(tidied_sheets)\n",
    "output[:10]"
   ]
  },
  {
   "cell_type": "markdown",
   "id": "1b97dd9a-11b2-4682-8f59-f17bb11b3062",
   "metadata": {},
   "source": [
    "# Example 1:\n",
    "    \n",
    "Let's add a \"The\" prefix to the group names:\n",
    "\n",
    "Note - the only change is the \"group\" HDim"
   ]
  },
  {
   "cell_type": "code",
   "execution_count": null,
   "id": "b3b9ad8b-4871-4a28-acd3-f305a68d1565",
   "metadata": {},
   "outputs": [],
   "source": [
    "tidied_sheets = []\n",
    "for tab in tabs:       \n",
    "\n",
    "    # define a selection of cells as the observations\n",
    "    observations = tab.excel_ref('C5').expand(DOWN).expand(RIGHT).is_not_blank()\n",
    "    \n",
    "    # define other selections of cells to be our dimensions\n",
    "    assets = tab.excel_ref('C3').expand(RIGHT).is_not_blank()\n",
    "    names = tab.excel_ref('B5').expand(DOWN).is_not_blank()\n",
    "    group = tab.excel_ref('A5').expand(DOWN).is_not_blank()\n",
    "\n",
    "    #define the relationships of the cells selected as dimensions (relative to the observations)\n",
    "    dimensions = [\n",
    "              HDim(assets, \"Assets\", DIRECTLY, ABOVE), \n",
    "              HDim(names, \"Name\", DIRECTLY, LEFT), \n",
    "              HDim(group, \"Group\", CLOSEST, ABOVE, apply=lambda x: f'The {x}') \n",
    "                 ]\n",
    "    \n",
    "    # Now we process these relationship for this tab (this code rarely changes)\n",
    "    tidy_sheet = ConversionSegment(tab, dimensions, observations) # < --- processing\n",
    "    #savepreviewhtml(tidy_sheet)\n",
    "    \n",
    "    tidied_sheets.append(tidy_sheet.topandas()) # <-- adding result of processing this tab to our list\n",
    "    \n",
    "output = pd.concat(tidied_sheets)\n",
    "output[:10]"
   ]
  },
  {
   "cell_type": "markdown",
   "id": "b7094876-47c6-4a30-88a5-5c22dc704f64",
   "metadata": {},
   "source": [
    "# Example 2:\n",
    "    \n",
    "Let's pass in a more complicated function that url'ify the beatles but ignore the rolling stones.\n",
    "    \n",
    "Note - the only change is the \"name\" HDim"
   ]
  },
  {
   "cell_type": "code",
   "execution_count": null,
   "id": "3f79e3a0-14c6-43c4-a905-88a986a449c9",
   "metadata": {},
   "outputs": [],
   "source": [
    "def beatles_as_urls(value):\n",
    "    d = {\n",
    "        \"John\": \"beatles/john/singer\",\n",
    "        \"Paul\": \"beatles/paul/bass\",\n",
    "        \"Ringo\": \"beatles/ringo/drums\",\n",
    "        \"George\": \"beatles/geaoge/guitar\"\n",
    "    }\n",
    "    return d.get(value, value)\n",
    "\n",
    "tidied_sheets = []\n",
    "for tab in tabs:       \n",
    "\n",
    "    # define a selection of cells as the observations\n",
    "    observations = tab.excel_ref('C5').expand(DOWN).expand(RIGHT).is_not_blank()\n",
    "    \n",
    "    # define other selections of cells to be our dimensions\n",
    "    assets = tab.excel_ref('C3').expand(RIGHT).is_not_blank()\n",
    "    names = tab.excel_ref('B5').expand(DOWN).is_not_blank()\n",
    "    group = tab.excel_ref('A5').expand(DOWN).is_not_blank()\n",
    "\n",
    "    #define the relationships of the cells selected as dimensions (relative to the observations)\n",
    "    dimensions = [\n",
    "              HDim(assets, \"Assets\", DIRECTLY, ABOVE), \n",
    "              HDim(names, \"Name\", DIRECTLY, LEFT, apply=beatles_as_urls), \n",
    "              HDim(group, \"Group\", CLOSEST, ABOVE) \n",
    "                 ]\n",
    "    \n",
    "    # Now we process these relationship for this tab (this code rarely changes)\n",
    "    tidy_sheet = ConversionSegment(tab, dimensions, observations) # < --- processing\n",
    "    #savepreviewhtml(tidy_sheet)\n",
    "    \n",
    "    tidied_sheets.append(tidy_sheet.topandas()) # <-- adding result of processing this tab to our list\n",
    "    \n",
    "output = pd.concat(tidied_sheets)\n",
    "output[:10]"
   ]
  },
  {
   "cell_type": "markdown",
   "id": "30136382-df1c-4f7c-a7e4-d2a1dabe956f",
   "metadata": {},
   "source": [
    "# Example 3\n",
    "\n",
    "You can pass in a sequence if callables via a tuple if you want to.\n",
    "\n",
    "In this case we're going to pass in two lambda functions:\n",
    "\n",
    "- Add a prefix of \"lots of\"\n",
    "- Replace the term \"lots\" with \"many types\" but _only_ for houses\n",
    "\n",
    "For this one look at the Assets HDim constructor.\n",
    "\n",
    "_Note - pretty ugly but this is just a quick example_."
   ]
  },
  {
   "cell_type": "code",
   "execution_count": null,
   "id": "1f3a9a44-4c1b-4b7f-b8b0-caeae5d643d5",
   "metadata": {},
   "outputs": [],
   "source": [
    "tidied_sheets = []\n",
    "for tab in tabs:       \n",
    "\n",
    "    # define a selection of cells as the observations\n",
    "    observations = tab.excel_ref('C5').expand(DOWN).expand(RIGHT).is_not_blank()\n",
    "    \n",
    "    # define other selections of cells to be our dimensions\n",
    "    assets = tab.excel_ref('C3').expand(RIGHT).is_not_blank()\n",
    "    names = tab.excel_ref('B5').expand(DOWN).is_not_blank()\n",
    "    group = tab.excel_ref('A5').expand(DOWN).is_not_blank()\n",
    "\n",
    "    #define the relationships of the cells selected as dimensions (relative to the observations)\n",
    "    dimensions = [\n",
    "              HDim(assets, \"Assets\", DIRECTLY, ABOVE, apply=(lambda x: f'lots of {x}',lambda x: x.replace(\"lots\", \"many types\") if \"Houses\" in x else x)), \n",
    "              HDim(names, \"Name\", DIRECTLY, LEFT), \n",
    "              HDim(group, \"Group\", CLOSEST, ABOVE) \n",
    "                 ]\n",
    "    \n",
    "    # Now we process these relationship for this tab (this code rarely changes)\n",
    "    tidy_sheet = ConversionSegment(tab, dimensions, observations) # < --- processing\n",
    "    #savepreviewhtml(tidy_sheet)\n",
    "    \n",
    "    tidied_sheets.append(tidy_sheet.topandas()) # <-- adding result of processing this tab to our list\n",
    "    \n",
    "output = pd.concat(tidied_sheets)\n",
    "output[:10]"
   ]
  },
  {
   "cell_type": "code",
   "execution_count": null,
   "id": "b9a7fbc1-1bac-4802-a451-fa05600b80f9",
   "metadata": {},
   "outputs": [],
   "source": []
  }
 ],
 "metadata": {
  "kernelspec": {
   "display_name": "Python 3",
   "language": "python",
   "name": "python3"
  },
  "language_info": {
   "codemirror_mode": {
    "name": "ipython",
    "version": 3
   },
   "file_extension": ".py",
   "mimetype": "text/x-python",
   "name": "python",
   "nbconvert_exporter": "python",
   "pygments_lexer": "ipython3",
   "version": "3.8.7"
  }
 },
 "nbformat": 4,
 "nbformat_minor": 5
}
