{
 "cells": [
  {
   "cell_type": "markdown",
   "metadata": {},
   "source": [
    "## Define the dimensions\n",
    "\n",
    "\n",
    "At this stage we have all the data selected into groups of cells. We now need to define the relationships between these groups of cells.\n",
    "\n",
    "There is one Golden Rule that applies here:\n",
    "\n",
    "\n",
    "## you ALWAYS define relationships in terms of  each groups relationship to the observations.\n",
    " \n",
    " \n",
    "let's look at an example:\n",
    "\n",
    "Whats the relationship between \"assets\" and \"observations\"? - its that FOR **ALL** OBSERVATIONS the correct asset is directly above.\n",
    "\n",
    "---\n",
    "\n",
    "![alt text](images/relations.png)\n",
    "\n",
    "\n",
    "Using databaker syntax we write this as:\n",
    "\n",
    "\n",
    "\n",
    "## HDim(assets, \"Assets\", DIRECTLY, ABOVE)\n",
    "\n",
    "\n",
    "\n",
    "this command breaks down as follows:\n",
    "\n",
    "---\n",
    "\n",
    "![alt text](images/commandStuff.png)\n",
    "\n",
    "The following is how you would define all the relationships in this example:\n"
   ]
  },
  {
   "cell_type": "code",
   "execution_count": null,
   "metadata": {},
   "outputs": [],
   "source": [
    "# Dont try and run the code in the cell please. It will not work as a stand alone.\n",
    "\n",
    "dimensions = [\n",
    "          HDim(assets, \"Assets\", DIRECTLY, ABOVE), \n",
    "          HDim(names, \"Name\", DIRECTLY, LEFT), \n",
    "          HDim(group, \"Group\", CLOSEST, ABOVE) \n",
    "             ]\n"
   ]
  },
  {
   "cell_type": "markdown",
   "metadata": {},
   "source": [
    "There's a natural question at this point - why isn't the observation selection referenced anywhere?\n",
    "\n",
    "because .... \n",
    "\n",
    "## you ALWAYS define relationships in terms of  each groups relationship to the observations.\n",
    "\n",
    "It seems like an abstract point, but the quicker you can think in these terms the easier this will all be."
   ]
  },
  {
   "cell_type": "markdown",
   "metadata": {},
   "source": [
    "Let's looks at this in context of our coloured images.\n",
    "\n",
    "The key thing is to remember the mustard/yellow colour are the observations and all dimensions are defined relative to them.\n",
    "    \n",
    "---\n",
    "\n",
    "![alt text](images/allColours.png)\n",
    "\n",
    "---\n",
    "Take a moment and make sure you understand the logic behind how we've established the relationships.\n",
    "\n",
    "In the case of the \"CLOSEST, ABOVE\" commands used to define the groups dimension it works as follows:\n",
    "\n",
    "...for each observation, we want the cell in our groups selection that is the closest one above the observation cell in question. IMPORTANT - being on the same line is always counted as being CLOSEST, ABOVE.\n"
   ]
  },
  {
   "cell_type": "code",
   "execution_count": null,
   "metadata": {},
   "outputs": [],
   "source": []
  }
 ],
 "metadata": {
  "kernelspec": {
   "display_name": "Python 3",
   "language": "python",
   "name": "python3"
  },
  "language_info": {
   "codemirror_mode": {
    "name": "ipython",
    "version": 3
   },
   "file_extension": ".py",
   "mimetype": "text/x-python",
   "name": "python",
   "nbconvert_exporter": "python",
   "pygments_lexer": "ipython3",
   "version": "3.6.6"
  }
 },
 "nbformat": 4,
 "nbformat_minor": 2
}
