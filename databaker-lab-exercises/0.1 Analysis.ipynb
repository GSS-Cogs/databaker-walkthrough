{
 "cells": [
  {
   "cell_type": "markdown",
   "metadata": {},
   "source": [
    "# Analysis"
   ]
  },
  {
   "cell_type": "markdown",
   "metadata": {},
   "source": [
    "In a real-life scenario a transformation will be part of a much larger piece of work involving Business Analytics and Delivey colleagues as well as interaction and input from the data supplier.\n",
    "\n",
    "As such, a given \"transformation task\" will come with a fair amount of guidence in regards to what to do, the required shape of the output data and the expected/desired output.\n",
    "\n",
    "For the sake of these tutorials we're going to simulate that by starting some of the tutorials with a simple requirements cell, as follows."
   ]
  },
  {
   "cell_type": "code",
   "execution_count": null,
   "metadata": {},
   "outputs": [],
   "source": []
  },
  {
   "cell_type": "markdown",
   "metadata": {},
   "source": [
    "**Please note:** - this is intended an a simple way to highlight the sorts of requirements you'll be working to for a given task and has all the details we'll need for theses tutorials. \n",
    "\n",
    "In actuality the definition of a given task will likely be more detailed and will evolve over time as new and better agile processes are developed."
   ]
  }
 ],
 "metadata": {
  "kernelspec": {
   "display_name": "Python 3",
   "language": "python",
   "name": "python3"
  },
  "language_info": {
   "codemirror_mode": {
    "name": "ipython",
    "version": 3
   },
   "file_extension": ".py",
   "mimetype": "text/x-python",
   "name": "python",
   "nbconvert_exporter": "python",
   "pygments_lexer": "ipython3",
   "version": "3.6.6"
  }
 },
 "nbformat": 4,
 "nbformat_minor": 2
}
