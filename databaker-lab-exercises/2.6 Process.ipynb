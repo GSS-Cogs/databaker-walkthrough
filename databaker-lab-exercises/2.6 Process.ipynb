{
 "cells": [
  {
   "cell_type": "markdown",
   "metadata": {},
   "source": [
    "# Process: Working With Conversion Segments"
   ]
  },
  {
   "cell_type": "markdown",
   "metadata": {},
   "source": [
    "The Processing stage is done by creating what's termed a \"Conversion Segment\".\n",
    "\n",
    "A Converstion Segment is just the name of a single \"segment\" of the output, which is generated from **an observation selection** and its **defined dimensions**, in the context of a **single tab of data**.\n",
    "\n",
    "Typically you can create a conversation segment in one of two ways."
   ]
  },
  {
   "cell_type": "markdown",
   "metadata": {},
   "source": [
    "-----\n",
    "\n",
    "*Note on variables:*\n",
    "\n",
    "* tab - the current tab of data we are extracting\n",
    "* observations - our cellbag selection of variables\n",
    "* dimensions - the difined dimensions, as per notebooks 2.3 and 2.4\n",
    "\n",
    "\n",
    "## 1.) As a \"Pure\" conversion segment\n",
    "\n",
    "This is for when no post processing is needed, or the post operations are better suited to a non dataframe approach.\n"
   ]
  },
  {
   "cell_type": "code",
   "execution_count": null,
   "metadata": {},
   "outputs": [],
   "source": [
    "cs = ConverstionSegment(tab, dimensions, observations)"
   ]
  },
  {
   "cell_type": "markdown",
   "metadata": {},
   "source": [
    "NOTE: in the **vast majority of cases** where post processing is required it's best to do it via pandas using the below pattern.\n",
    "\n",
    "-----\n",
    "\n",
    "## 2.) Output a Conversion Segment As A Pandas Dataframe"
   ]
  },
  {
   "cell_type": "code",
   "execution_count": null,
   "metadata": {},
   "outputs": [],
   "source": [
    "cs = ConverstionSegment(tab, dimensions, observations).topandas()"
   ]
  },
  {
   "cell_type": "markdown",
   "metadata": {},
   "source": [
    "In this case the `cs` variable will contain a single pandas dataframe of the flattened data. All standard pandas operations can now be performed on it."
   ]
  },
  {
   "cell_type": "markdown",
   "metadata": {},
   "source": [
    "## The Typical Extraction Pattern\n",
    "\n",
    "For most recipes you'll see a pattern similar to the following:\n",
    "\n",
    "    \n",
    "    \n",
    "    \n"
   ]
  },
  {
   "cell_type": "code",
   "execution_count": null,
   "metadata": {},
   "outputs": [],
   "source": [
    "conversionSegments = []\n",
    "for tab in tabs:\n",
    "\n",
    "    # select obsersations\n",
    "    # ....\n",
    "    \n",
    "    # make selection for dimensions\n",
    "    # ....\n",
    "    \n",
    "    # define some dimensions\n",
    "    # ....\n",
    "    \n",
    "    cs = ConverstionSegment(tab, dimensions, observations).topandas()\n",
    "    \n",
    "    # do some post processing on our \"cs\" dataframe\n",
    "    # ...\n",
    "    # ...\n",
    "    \n",
    "    # Put the \"done\" cs in our conversionSegments list\n",
    "    conversionSegments.append(cs)\n",
    "    \n",
    "\n",
    "# Do something with the list of conversionSegments\n",
    "doSomethingWith(conversionSegments)"
   ]
  }
 ],
 "metadata": {
  "kernelspec": {
   "display_name": "Python 3",
   "language": "python",
   "name": "python3"
  },
  "language_info": {
   "codemirror_mode": {
    "name": "ipython",
    "version": 3
   },
   "file_extension": ".py",
   "mimetype": "text/x-python",
   "name": "python",
   "nbconvert_exporter": "python",
   "pygments_lexer": "ipython3",
   "version": "3.6.6"
  }
 },
 "nbformat": 4,
 "nbformat_minor": 2
}
