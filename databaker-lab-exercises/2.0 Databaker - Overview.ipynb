{
 "cells": [
  {
   "cell_type": "markdown",
   "metadata": {},
   "source": [
    "# Databaker\n",
    "\n",
    "There are two section to this notebook.\n",
    "\n",
    "* What is databaker\n",
    "* The stages of a databaker transformation\n",
    "\n",
    "We'll look at each in turn, with any (optional) supplementary resources linked throughout.\n",
    "\n",
    "\n",
    "-----\n"
   ]
  },
  {
   "cell_type": "markdown",
   "metadata": {},
   "source": [
    "## What is Databaker? \n",
    "\n",
    "Databaker is a python library for writing scripts than helps turn human readable spreadsheets into machine readable one-observation-per-row CSVs.\n",
    "\n",
    "Simply put, it’s a set of python commands that takes data that looks like this:\n",
    "    \n",
    "   \n",
    "![Databaker before](./images/databaker_before.png)\n",
    "   \n",
    "And turns it into something that looks like this.\n",
    "\n",
    "![Databaker After](./images/databaker_after.png)\n"
   ]
  },
  {
   "cell_type": "markdown",
   "metadata": {},
   "source": [
    "The purpose of this transformation is to create a well structured data cube (for an explanation of the above data structures and the concept of a data cube please see: https://github.com/ONS-OpenData/gss-data-docs/wiki/Data-Structures."
   ]
  },
  {
   "cell_type": "markdown",
   "metadata": {},
   "source": [
    "## The Stages Of A Databaker Transformation"
   ]
  },
  {
   "cell_type": "markdown",
   "metadata": {},
   "source": [
    "\n",
    "Any given databaker transformation script can be summarised by **ASDPP**, which represents the following stages:\n",
    "    \n",
    "\n",
    "* **A**cquisition -    get the data into the notebook.\n",
    "* **S**election -      selection which collectons of cells equate to observations, dimensions etc.\n",
    "* **D**imension -      define how selection tie up with dimensions.\n",
    "* **P**rocess -        flatten the data, the heavy lifting.\n",
    "* **P**ost -           post processing, tweaks and tidy up's.\n",
    "\n",
    "The following tutorials will introduce these stages starting with *Selection*. As previously mentioned, we're using prebuilt scrapers for these example hence starting with *Selection* (we'll be returning to *Acquisition* later)."
   ]
  },
  {
   "cell_type": "code",
   "execution_count": null,
   "metadata": {},
   "outputs": [],
   "source": []
  }
 ],
 "metadata": {
  "kernelspec": {
   "display_name": "Python 3",
   "language": "python",
   "name": "python3"
  },
  "language_info": {
   "codemirror_mode": {
    "name": "ipython",
    "version": 3
   },
   "file_extension": ".py",
   "mimetype": "text/x-python",
   "name": "python",
   "nbconvert_exporter": "python",
   "pygments_lexer": "ipython3",
   "version": "3.6.6"
  }
 },
 "nbformat": 4,
 "nbformat_minor": 2
}
