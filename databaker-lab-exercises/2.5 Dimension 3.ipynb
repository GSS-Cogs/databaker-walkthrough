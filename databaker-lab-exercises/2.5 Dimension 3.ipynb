{
 "cells": [
  {
   "cell_type": "markdown",
   "metadata": {},
   "source": [
    "# Dimensions 3: Cell Value Overrides"
   ]
  },
  {
   "cell_type": "markdown",
   "metadata": {},
   "source": [
    "\n",
    "One of the key things to be aware of when dimensioning data is the coccept of cell value overrides.\n",
    "\n",
    "This is an alternative method of tweaking the value of dimension cells, that can be used prior to post processing.\n",
    "\n",
    "The reason to use this is simple - altering the value before the flatening process occurrs means you're modifying one value, as opposed to the countless repeats of that value that will be present during a typical post processing stage.\n",
    "\n",
    "A `cellValueOverride` consists of a single dictionary that can be passed into a dimension while it is being defined.\n",
    "\n",
    "The structure is allways the same {oldValue: newValue}\n",
    "\n",
    "-----\n",
    "\n",
    "## Example\n",
    "\n",
    "In the following example, imagine that the Assets dimension had a typo, and stated \"Hoose\" rather than \"House\". You could clear this up with a cell value override as follows.\n"
   ]
  },
  {
   "cell_type": "code",
   "execution_count": null,
   "metadata": {},
   "outputs": [],
   "source": [
    "\n",
    "myOverrides = {\"Hoose\":\"House\"}\n",
    "\n",
    "dimensions = [\n",
    "    hDim(assets, \"Assets\", DIRECTLY, ABOVE, cellvalueoverride=myOverrides)\n",
    "]"
   ]
  },
  {
   "cell_type": "markdown",
   "metadata": {},
   "source": [
    "The key take away here, is that this lets you modify values *just* prior to flatening, which serves as a considerable performance gain over dataframe operations.\n",
    "\n",
    "*NOTE - we're using one key:value pair here, but you can use as many as you need to.*"
   ]
  }
 ],
 "metadata": {
  "kernelspec": {
   "display_name": "Python 3",
   "language": "python",
   "name": "python3"
  },
  "language_info": {
   "codemirror_mode": {
    "name": "ipython",
    "version": 3
   },
   "file_extension": ".py",
   "mimetype": "text/x-python",
   "name": "python",
   "nbconvert_exporter": "python",
   "pygments_lexer": "ipython3",
   "version": "3.6.6"
  }
 },
 "nbformat": 4,
 "nbformat_minor": 2
}
