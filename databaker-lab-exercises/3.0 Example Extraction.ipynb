{
 "cells": [
  {
   "cell_type": "markdown",
   "metadata": {},
   "source": [
    "# Example Extraction\n",
    "\n",
    "This is the full example for the data shown earlier. Shown again here for convenience.\n",
    "\n",
    "![](./images/example1_spreadsheet.png)"
   ]
  },
  {
   "cell_type": "code",
   "execution_count": 1,
   "metadata": {},
   "outputs": [
    {
     "data": {
      "text/markdown": [
       "**Example dataset 1**\n"
      ],
      "text/plain": [
       "<IPython.core.display.Markdown object>"
      ]
     },
     "metadata": {},
     "output_type": "display_data"
    },
    {
     "data": {
      "text/markdown": [
       "this is an example dataset for the walkthroughs.\n"
      ],
      "text/plain": [
       "<IPython.core.display.Markdown object>"
      ]
     },
     "metadata": {},
     "output_type": "display_data"
    },
    {
     "data": {
      "text/markdown": [
       "**distribution**\n"
      ],
      "text/plain": [
       "<IPython.core.display.Markdown object>"
      ]
     },
     "metadata": {},
     "output_type": "display_data"
    },
    {
     "data": {
      "text/markdown": [
       "exampledata - WITH A REAL SCAPER, YOU'D GET A CLICKABLE LNK TO SOURCE HERE -\n"
      ],
      "text/plain": [
       "<IPython.core.display.Markdown object>"
      ]
     },
     "metadata": {},
     "output_type": "display_data"
    },
    {
     "data": {
      "text/plain": []
     },
     "execution_count": 1,
     "metadata": {},
     "output_type": "execute_result"
    }
   ],
   "source": [
    "\n",
    "from databaker.framework import *\n",
    "from tutorialResources.scraper import Scraper\n",
    "\n",
    "scraper = Scraper(\"https://www.fake-website.com/example1\")\n",
    "scraper"
   ]
  },
  {
   "cell_type": "code",
   "execution_count": 2,
   "metadata": {},
   "outputs": [
    {
     "data": {
      "text/html": [
       "<div id=\"injblock1001\">\n",
       "<style>\n",
       "table.ex, table.exkey { border: thin black solid }\n",
       "table.ex td, table.ex tr { border: none }\n",
       "table.ex td:hover { border: thin blue solid }\n",
       "table.ex td.excOBS:hover { border: thin red solid }\n",
       "table.ex td.selected { border: thick red solid }\n",
       "</style>\n",
       "\n",
       "\n",
       "<table class=\"exkey\">\n",
       "<tr><td class=\"xc0\" style=\"background-color:Aqua\">OBS</td><td class=\"xc1\" style=\"background-color:LightGreen\">Assets</td><td class=\"xc2\" style=\"background-color:MistyRose\">Name</td><td class=\"xc3\" style=\"background-color:LightGray\">Group</td></tr></table>\n",
       "\n",
       "<table class=\"ex\">\n",
       "<caption style=\"text-align:center; padding:0px; caption-side:bottom\">Groups</caption>\n",
       "<tr><td title=\"0 0\"></td><td title=\"1 0\"></td><td title=\"2 0\"></td><td title=\"3 0\"></td><td title=\"4 0\"></td></tr>\n",
       "<tr><td title=\"0 1\"></td><td title=\"1 1\"></td><td title=\"2 1\">Assets</td><td title=\"3 1\"></td><td title=\"4 1\"></td></tr>\n",
       "<tr><td title=\"0 2\">Group</td><td title=\"1 2\"></td><td style=\"background-color:LightGreen\" title=\"2 2\">Houses</td><td style=\"background-color:LightGreen\" title=\"3 2\">Cars</td><td style=\"background-color:LightGreen\" title=\"4 2\">Businesses</td></tr>\n",
       "<tr><td title=\"0 3\"></td><td title=\"1 3\"></td><td title=\"2 3\"></td><td title=\"3 3\"></td><td title=\"4 3\"></td></tr>\n",
       "<tr><td style=\"background-color:LightGray\" title=\"0 4\">Beatles</td><td style=\"background-color:MistyRose\" title=\"1 4\">John</td><td style=\"background-color:Aqua\" title=\"2 4\">1.0</td><td style=\"background-color:Aqua\" title=\"3 4\">6.0</td><td style=\"background-color:Aqua\" title=\"4 4\">1.0</td></tr>\n",
       "<tr><td title=\"0 5\"></td><td style=\"background-color:MistyRose\" title=\"1 5\">Paul</td><td style=\"background-color:Aqua\" title=\"2 5\">2.0</td><td style=\"background-color:Aqua\" title=\"3 5\">4.0</td><td style=\"background-color:Aqua\" title=\"4 5\">6.0</td></tr>\n",
       "<tr><td title=\"0 6\"></td><td style=\"background-color:MistyRose\" title=\"1 6\">George</td><td style=\"background-color:Aqua\" title=\"2 6\">3.0</td><td style=\"background-color:Aqua\" title=\"3 6\">3.0</td><td style=\"background-color:Aqua\" title=\"4 6\">2.0</td></tr>\n",
       "<tr><td title=\"0 7\"></td><td style=\"background-color:MistyRose\" title=\"1 7\">Ringo</td><td style=\"background-color:Aqua\" title=\"2 7\">8.0</td><td style=\"background-color:Aqua\" title=\"3 7\">2.0</td><td style=\"background-color:Aqua\" title=\"4 7\">5.0</td></tr>\n",
       "<tr><td title=\"0 8\"></td><td title=\"1 8\"></td><td title=\"2 8\"></td><td title=\"3 8\"></td><td title=\"4 8\"></td></tr>\n",
       "<tr><td style=\"background-color:LightGray\" title=\"0 9\">Rollin Stones</td><td style=\"background-color:MistyRose\" title=\"1 9\">Mick</td><td style=\"background-color:Aqua\" title=\"2 9\">6.0</td><td style=\"background-color:Aqua\" title=\"3 9\">5.0</td><td style=\"background-color:Aqua\" title=\"4 9\">13.0</td></tr>\n",
       "<tr><td title=\"0 10\"></td><td style=\"background-color:MistyRose\" title=\"1 10\">Keith</td><td style=\"background-color:Aqua\" title=\"2 10\">5.0</td><td style=\"background-color:Aqua\" title=\"3 10\">5.0</td><td style=\"background-color:Aqua\" title=\"4 10\">6.0</td></tr>\n",
       "<tr><td title=\"0 11\"></td><td style=\"background-color:MistyRose\" title=\"1 11\">Ronnie</td><td style=\"background-color:Aqua\" title=\"2 11\">2.0</td><td style=\"background-color:Aqua\" title=\"3 11\">5.0</td><td style=\"background-color:Aqua\" title=\"4 11\">4.0</td></tr>\n",
       "<tr><td title=\"0 12\"></td><td style=\"background-color:MistyRose\" title=\"1 12\">Charlie</td><td style=\"background-color:Aqua\" title=\"2 12\">3.0</td><td style=\"background-color:Aqua\" title=\"3 12\">3.0</td><td style=\"background-color:Aqua\" title=\"4 12\">22.0</td></tr>\n",
       "</table>\n",
       "\n",
       "</div>\n",
       "\n",
       "<script>\n",
       "var jslookup = {\"3 9\":[3,2,1,9,0,9],\"2 12\":[2,2,1,12,0,9],\"4 5\":[4,2,1,5,0,4],\"2 5\":[2,2,1,5,0,4],\"3 5\":[3,2,1,5,0,4],\"4 4\":[4,2,1,4,0,4],\"4 10\":[4,2,1,10,0,9],\"3 4\":[3,2,1,4,0,4],\"3 12\":[3,2,1,12,0,9],\"2 11\":[2,2,1,11,0,9],\"2 7\":[2,2,1,7,0,4],\"2 6\":[2,2,1,6,0,4],\"4 7\":[4,2,1,7,0,4],\"2 10\":[2,2,1,10,0,9],\"4 12\":[4,2,1,12,0,9],\"4 11\":[4,2,1,11,0,9],\"2 4\":[2,2,1,4,0,4],\"3 6\":[3,2,1,6,0,4],\"3 11\":[3,2,1,11,0,9],\"3 10\":[3,2,1,10,0,9],\"3 7\":[3,2,1,7,0,4],\"4 6\":[4,2,1,6,0,4],\"4 9\":[4,2,1,9,0,9],\"2 9\":[2,2,1,9,0,9]}; \n",
       "var jdividNUM = \"injblock1001\"; \n",
       "var Dclickedcell = null; \n",
       "function clickedcell() \n",
       "{ \n",
       "    Dclickedcell = this; \n",
       "    console.log(\"jjjj\", this); \n",
       "    var rgc = new RegExp('(^|\\b)' + \"selected\".split(' ').join('|') + '(\\b|$)', 'gi'); \n",
       "    Array.prototype.forEach.call(document.querySelectorAll(\"div#\"+jdividNUM+\" table.ex td.selected\"), function(el, i) { \n",
       "        if (el.classList)  el.classList.remove(\"selected\");\n",
       "        else  el.className = el.className.replace(rgc, ' ');\n",
       "    }); \n",
       "    if (this.classList)  this.classList.add(\"selected\");\n",
       "    else this.className += ' ' + \"selected\";\n",
       "\n",
       "    var dimpairs = jslookup[this.title]; \n",
       "    if (dimpairs !== undefined) {\n",
       "        for (var i = 1; i < dimpairs.length; i += 2) {\n",
       "            var row = document.querySelectorAll(\"div#\"+jdividNUM+\" table.ex tr\")[dimpairs[i]]; \n",
       "            var el = row.querySelectorAll(\"td\")[dimpairs[i-1]]; \n",
       "            if (el.classList)  el.classList.add(\"selected\");\n",
       "            else el.className += ' ' + \"selected\";\n",
       "        }\n",
       "    }\n",
       "}\n",
       "Array.prototype.forEach.call(document.querySelectorAll(\"div#\"+jdividNUM+\" table.ex td\"), function(item, i) { item.onclick=clickedcell; }); \n",
       "</script>\n"
      ],
      "text/plain": [
       "<IPython.core.display.HTML object>"
      ]
     },
     "metadata": {},
     "output_type": "display_data"
    },
    {
     "name": "stdout",
     "output_type": "stream",
     "text": [
      "\n"
     ]
    }
   ],
   "source": [
    "tabs = scraper.distribution.as_databaker()\n",
    "\n",
    "# define a list. this is mandatory - for later\n",
    "tidied_sheets = []\n",
    "\n",
    "# for each of the selected tabs....do everything thats indented (in this case we only have 1 tab, \n",
    "# but that isn't common so we'll stick with the typical approach)\n",
    "for tab in tabs:       \n",
    "\n",
    "    # define a selection of cells as the observations\n",
    "    observations = tab.excel_ref('C5').expand(DOWN).expand(RIGHT).is_not_blank()\n",
    "    \n",
    "    # define other selections of cells to be our dimensions\n",
    "    assets = tab.excel_ref('C3').expand(RIGHT).is_not_blank()\n",
    "    names = tab.excel_ref('B5').expand(DOWN).is_not_blank()\n",
    "    group = tab.excel_ref('A5').expand(DOWN).is_not_blank()\n",
    "\n",
    "    # define the relationships of the cells selected as dimensions (relative to the observations)\n",
    "    dimensions = [\n",
    "              HDim(assets, \"Assets\", DIRECTLY, ABOVE), \n",
    "              HDim(names, \"Name\", DIRECTLY, LEFT), \n",
    "              HDim(group, \"Group\", CLOSEST, ABOVE) \n",
    "                 ]\n",
    "    \n",
    "    # Now we process these relationship for this tab (this code rarely changes)\n",
    "    tidy_sheet = ConversionSegment(tab, dimensions, observations) # < --- processing\n",
    "    savepreviewhtml(tidy_sheet)\n",
    "    \n",
    "    tidied_sheets.append(tidy_sheet.topandas()) # <-- adding result of processing this tab to our list"
   ]
  },
  {
   "cell_type": "markdown",
   "metadata": {},
   "source": [
    "Now let's have a look at the output"
   ]
  },
  {
   "cell_type": "code",
   "execution_count": 3,
   "metadata": {},
   "outputs": [
    {
     "data": {
      "text/html": [
       "<div>\n",
       "<style scoped>\n",
       "    .dataframe tbody tr th:only-of-type {\n",
       "        vertical-align: middle;\n",
       "    }\n",
       "\n",
       "    .dataframe tbody tr th {\n",
       "        vertical-align: top;\n",
       "    }\n",
       "\n",
       "    .dataframe thead th {\n",
       "        text-align: right;\n",
       "    }\n",
       "</style>\n",
       "<table border=\"1\" class=\"dataframe\">\n",
       "  <thead>\n",
       "    <tr style=\"text-align: right;\">\n",
       "      <th></th>\n",
       "      <th>OBS</th>\n",
       "      <th>Assets</th>\n",
       "      <th>Name</th>\n",
       "      <th>Group</th>\n",
       "    </tr>\n",
       "  </thead>\n",
       "  <tbody>\n",
       "    <tr>\n",
       "      <th>0</th>\n",
       "      <td>1.0</td>\n",
       "      <td>Houses</td>\n",
       "      <td>John</td>\n",
       "      <td>Beatles</td>\n",
       "    </tr>\n",
       "    <tr>\n",
       "      <th>1</th>\n",
       "      <td>6.0</td>\n",
       "      <td>Cars</td>\n",
       "      <td>John</td>\n",
       "      <td>Beatles</td>\n",
       "    </tr>\n",
       "    <tr>\n",
       "      <th>2</th>\n",
       "      <td>1.0</td>\n",
       "      <td>Businesses</td>\n",
       "      <td>John</td>\n",
       "      <td>Beatles</td>\n",
       "    </tr>\n",
       "    <tr>\n",
       "      <th>3</th>\n",
       "      <td>2.0</td>\n",
       "      <td>Houses</td>\n",
       "      <td>Paul</td>\n",
       "      <td>Beatles</td>\n",
       "    </tr>\n",
       "    <tr>\n",
       "      <th>4</th>\n",
       "      <td>4.0</td>\n",
       "      <td>Cars</td>\n",
       "      <td>Paul</td>\n",
       "      <td>Beatles</td>\n",
       "    </tr>\n",
       "    <tr>\n",
       "      <th>5</th>\n",
       "      <td>6.0</td>\n",
       "      <td>Businesses</td>\n",
       "      <td>Paul</td>\n",
       "      <td>Beatles</td>\n",
       "    </tr>\n",
       "    <tr>\n",
       "      <th>6</th>\n",
       "      <td>3.0</td>\n",
       "      <td>Houses</td>\n",
       "      <td>George</td>\n",
       "      <td>Beatles</td>\n",
       "    </tr>\n",
       "    <tr>\n",
       "      <th>7</th>\n",
       "      <td>3.0</td>\n",
       "      <td>Cars</td>\n",
       "      <td>George</td>\n",
       "      <td>Beatles</td>\n",
       "    </tr>\n",
       "    <tr>\n",
       "      <th>8</th>\n",
       "      <td>2.0</td>\n",
       "      <td>Businesses</td>\n",
       "      <td>George</td>\n",
       "      <td>Beatles</td>\n",
       "    </tr>\n",
       "    <tr>\n",
       "      <th>9</th>\n",
       "      <td>8.0</td>\n",
       "      <td>Houses</td>\n",
       "      <td>Ringo</td>\n",
       "      <td>Beatles</td>\n",
       "    </tr>\n",
       "    <tr>\n",
       "      <th>10</th>\n",
       "      <td>2.0</td>\n",
       "      <td>Cars</td>\n",
       "      <td>Ringo</td>\n",
       "      <td>Beatles</td>\n",
       "    </tr>\n",
       "    <tr>\n",
       "      <th>11</th>\n",
       "      <td>5.0</td>\n",
       "      <td>Businesses</td>\n",
       "      <td>Ringo</td>\n",
       "      <td>Beatles</td>\n",
       "    </tr>\n",
       "    <tr>\n",
       "      <th>12</th>\n",
       "      <td>6.0</td>\n",
       "      <td>Houses</td>\n",
       "      <td>Mick</td>\n",
       "      <td>Rollin Stones</td>\n",
       "    </tr>\n",
       "    <tr>\n",
       "      <th>13</th>\n",
       "      <td>5.0</td>\n",
       "      <td>Cars</td>\n",
       "      <td>Mick</td>\n",
       "      <td>Rollin Stones</td>\n",
       "    </tr>\n",
       "    <tr>\n",
       "      <th>14</th>\n",
       "      <td>13.0</td>\n",
       "      <td>Businesses</td>\n",
       "      <td>Mick</td>\n",
       "      <td>Rollin Stones</td>\n",
       "    </tr>\n",
       "    <tr>\n",
       "      <th>15</th>\n",
       "      <td>5.0</td>\n",
       "      <td>Houses</td>\n",
       "      <td>Keith</td>\n",
       "      <td>Rollin Stones</td>\n",
       "    </tr>\n",
       "    <tr>\n",
       "      <th>16</th>\n",
       "      <td>5.0</td>\n",
       "      <td>Cars</td>\n",
       "      <td>Keith</td>\n",
       "      <td>Rollin Stones</td>\n",
       "    </tr>\n",
       "    <tr>\n",
       "      <th>17</th>\n",
       "      <td>6.0</td>\n",
       "      <td>Businesses</td>\n",
       "      <td>Keith</td>\n",
       "      <td>Rollin Stones</td>\n",
       "    </tr>\n",
       "    <tr>\n",
       "      <th>18</th>\n",
       "      <td>2.0</td>\n",
       "      <td>Houses</td>\n",
       "      <td>Ronnie</td>\n",
       "      <td>Rollin Stones</td>\n",
       "    </tr>\n",
       "    <tr>\n",
       "      <th>19</th>\n",
       "      <td>5.0</td>\n",
       "      <td>Cars</td>\n",
       "      <td>Ronnie</td>\n",
       "      <td>Rollin Stones</td>\n",
       "    </tr>\n",
       "  </tbody>\n",
       "</table>\n",
       "</div>"
      ],
      "text/plain": [
       "     OBS      Assets    Name          Group\n",
       "0    1.0      Houses    John        Beatles\n",
       "1    6.0        Cars    John        Beatles\n",
       "2    1.0  Businesses    John        Beatles\n",
       "3    2.0      Houses    Paul        Beatles\n",
       "4    4.0        Cars    Paul        Beatles\n",
       "5    6.0  Businesses    Paul        Beatles\n",
       "6    3.0      Houses  George        Beatles\n",
       "7    3.0        Cars  George        Beatles\n",
       "8    2.0  Businesses  George        Beatles\n",
       "9    8.0      Houses   Ringo        Beatles\n",
       "10   2.0        Cars   Ringo        Beatles\n",
       "11   5.0  Businesses   Ringo        Beatles\n",
       "12   6.0      Houses    Mick  Rollin Stones\n",
       "13   5.0        Cars    Mick  Rollin Stones\n",
       "14  13.0  Businesses    Mick  Rollin Stones\n",
       "15   5.0      Houses   Keith  Rollin Stones\n",
       "16   5.0        Cars   Keith  Rollin Stones\n",
       "17   6.0  Businesses   Keith  Rollin Stones\n",
       "18   2.0      Houses  Ronnie  Rollin Stones\n",
       "19   5.0        Cars  Ronnie  Rollin Stones"
      ]
     },
     "execution_count": 3,
     "metadata": {},
     "output_type": "execute_result"
    }
   ],
   "source": [
    "\n",
    "# NOTE - this is not the next step in production (see later examples) but lets's see what we've got\n",
    "import pandas as pd\n",
    "dataframe = pd.concat(tidied_sheets)\n",
    "dataframe[:20]"
   ]
  }
 ],
 "metadata": {
  "kernelspec": {
   "display_name": "Python 3",
   "language": "python",
   "name": "python3"
  },
  "language_info": {
   "codemirror_mode": {
    "name": "ipython",
    "version": 3
   },
   "file_extension": ".py",
   "mimetype": "text/x-python",
   "name": "python",
   "nbconvert_exporter": "python",
   "pygments_lexer": "ipython3",
   "version": "3.8.7"
  }
 },
 "nbformat": 4,
 "nbformat_minor": 4
}
