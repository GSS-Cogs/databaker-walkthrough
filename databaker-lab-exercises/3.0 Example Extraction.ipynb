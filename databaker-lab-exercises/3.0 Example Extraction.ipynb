{
 "cells": [
  {
   "cell_type": "markdown",
   "metadata": {},
   "source": [
    "# Example Extraction\n",
    "\n",
    "This is the full example for the data shown earlier. Shown again here for convenience.\n",
    "\n",
    "![](./images/example1_spreadsheet.png)"
   ]
  },
  {
   "cell_type": "code",
   "execution_count": 2,
   "metadata": {},
   "outputs": [
    {
     "data": {
      "text/markdown": [
       "**Example dataset 1**\n"
      ],
      "text/plain": [
       "<IPython.core.display.Markdown object>"
      ]
     },
     "metadata": {},
     "output_type": "display_data"
    },
    {
     "data": {
      "text/markdown": [
       "this is an example dataset for the walkthroughs.\n"
      ],
      "text/plain": [
       "<IPython.core.display.Markdown object>"
      ]
     },
     "metadata": {},
     "output_type": "display_data"
    },
    {
     "data": {
      "text/plain": []
     },
     "execution_count": 2,
     "metadata": {},
     "output_type": "execute_result"
    }
   ],
   "source": [
    "\n",
    "from databaker.framework import *\n",
    "from tutorialResources.scraper import Scraper\n",
    "\n",
    "scraper = Scraper(\"https://www.fake-website.com/example1\")\n",
    "scraper"
   ]
  },
  {
   "cell_type": "code",
   "execution_count": 6,
   "metadata": {},
   "outputs": [],
   "source": [
    "tabs = scraper.distribution.as_databaker()\n",
    "\n",
    "# define a list. this is mandatory - for later\n",
    "conversionsegments = []\n",
    "\n",
    "# for each of the selected tabs....do everything thats indented (in this case we only have 1 tab, \n",
    "# but that isn't common so we'll stick with the typical approach)\n",
    "for tab in tabs:       \n",
    "\n",
    "    # define a selection of cells as the observations\n",
    "    observations = tab.excel_ref('C5').expand(DOWN).expand(RIGHT).is_not_blank()\n",
    "    \n",
    "    # define other selections of cells to be our dimensions\n",
    "    assets = tab.excel_ref('C3').expand(RIGHT).is_not_blank()\n",
    "    names = tab.excel_ref('B5').expand(DOWN).is_not_blank()\n",
    "    group = tab.excel_ref('A5').expand(DOWN).is_not_blank()\n",
    "\n",
    "    # define the relationships of the cells selected as dimensions (relative to the observations)\n",
    "    dimensions = [\n",
    "              HDim(assets, \"Assets\", DIRECTLY, ABOVE), \n",
    "              HDim(names, \"Name\", DIRECTLY, LEFT), \n",
    "              HDim(group, \"Group\", CLOSEST, ABOVE) \n",
    "                 ]\n",
    "    \n",
    "    # Now we process these relationship for this tab (this code never changes)\n",
    "    conversionsegment = ConversionSegment(tab, dimensions, observations) # < --- processing\n",
    "    conversionsegments.append(conversionsegment) # <-- adding result of processing this tab to our list"
   ]
  },
  {
   "cell_type": "markdown",
   "metadata": {},
   "source": [
    "Now let's have a look at the output"
   ]
  },
  {
   "cell_type": "code",
   "execution_count": null,
   "metadata": {},
   "outputs": [],
   "source": []
  }
 ],
 "metadata": {
  "kernelspec": {
   "display_name": "Python 3",
   "language": "python",
   "name": "python3"
  },
  "language_info": {
   "codemirror_mode": {
    "name": "ipython",
    "version": 3
   },
   "file_extension": ".py",
   "mimetype": "text/x-python",
   "name": "python",
   "nbconvert_exporter": "python",
   "pygments_lexer": "ipython3",
   "version": "3.6.6"
  }
 },
 "nbformat": 4,
 "nbformat_minor": 2
}
