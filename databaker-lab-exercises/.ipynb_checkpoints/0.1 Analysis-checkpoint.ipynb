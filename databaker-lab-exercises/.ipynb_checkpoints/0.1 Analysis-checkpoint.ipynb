{
 "cells": [
  {
   "cell_type": "markdown",
   "metadata": {},
   "source": [
    "# Analysis"
   ]
  },
  {
   "cell_type": "markdown",
   "metadata": {},
   "source": [
    "In a real-life scenario a transformation will be part of a much larger piece of work involving Business Analytics and Delivey colleagues as well as interaction and input from the data supplier.\n",
    "\n",
    "As such, a given \"transformation task\" will come with a fair amount of guidence in regards to what to do, the required shape of the output data and the expected/desired output.\n",
    "\n",
    "For the sake of these tutorials we're going to simulate that by starting some of the later tutorials with a cell outling a few basic requirements (i.e a shopping list of what we want to extract from the source in question)."
   ]
  },
  {
   "cell_type": "markdown",
   "metadata": {},
   "source": [
    "**Please note:** - any examples in this repo are intended as a learning tool only, in practice the definition of a given task will likely be more detailed and will evolve over time as new and better agile approaches evolve."
   ]
  }
 ],
 "metadata": {
  "kernelspec": {
   "display_name": "Python 3",
   "language": "python",
   "name": "python3"
  },
  "language_info": {
   "codemirror_mode": {
    "name": "ipython",
    "version": 3
   },
   "file_extension": ".py",
   "mimetype": "text/x-python",
   "name": "python",
   "nbconvert_exporter": "python",
   "pygments_lexer": "ipython3",
   "version": "3.7.3"
  }
 },
 "nbformat": 4,
 "nbformat_minor": 4
}
