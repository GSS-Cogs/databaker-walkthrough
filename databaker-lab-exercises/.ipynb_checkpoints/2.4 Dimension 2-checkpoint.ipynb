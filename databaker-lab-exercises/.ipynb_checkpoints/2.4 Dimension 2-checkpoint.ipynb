{
 "cells": [
  {
   "cell_type": "markdown",
   "metadata": {},
   "source": [
    "## Dimensions: A more complicated example "
   ]
  },
  {
   "cell_type": "markdown",
   "metadata": {},
   "source": [
    "The dimensioning process is all about relative referencing, in all cases we are specifying the direction of cells that make up a dimension **RELATIVE TO THE OBSERVATIONS**.\n",
    "\n",
    "Databaker uses the four cardinal directions **UP**, **DOWN**, **LEFT** and **RIGHT** as well as the terms **CLOSEST** and **DIRECTLY**.\n",
    "\n",
    "Leaving aside the selection syntax, the following image highlights how we using these 6 terms for communicating direction.\n",
    "\n",
    "*Note: take your time on this, the firmer your grap of how this works, the easier everything else will be.*\n",
    "\n",
    "![alt text](images/relativeDimensions.png)\n"
   ]
  },
  {
   "cell_type": "markdown",
   "metadata": {},
   "source": [
    "You would descibed these relationships with databaker as follows (note - don't run the cell please, it won't work)"
   ]
  },
  {
   "cell_type": "code",
   "execution_count": null,
   "metadata": {},
   "outputs": [],
   "source": [
    "dimensions = [\n",
    "    HDim(gender, \"Gender\", CLOSEST, LEFT),\n",
    "    HDim(colour, \"Colour\", CLOSEST, ABOVE),\n",
    "    HDim(measure, \"Measure\", DIRECTLY, ABOVE),\n",
    "    HDim(time, \"Time\", DIRECTLY, LEFT)\n",
    "]"
   ]
  }
 ],
 "metadata": {
  "kernelspec": {
   "display_name": "Python 3",
   "language": "python",
   "name": "python3"
  },
  "language_info": {
   "codemirror_mode": {
    "name": "ipython",
    "version": 3
   },
   "file_extension": ".py",
   "mimetype": "text/x-python",
   "name": "python",
   "nbconvert_exporter": "python",
   "pygments_lexer": "ipython3",
   "version": "3.6.6"
  }
 },
 "nbformat": 4,
 "nbformat_minor": 2
}
