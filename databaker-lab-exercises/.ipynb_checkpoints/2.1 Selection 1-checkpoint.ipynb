{
 "cells": [
  {
   "cell_type": "markdown",
   "metadata": {},
   "source": [
    "## Selection: 1\n",
    "\n",
    "This notebook will explain the mechanics of selection using the following tab of a spreadsheet as an example.\n",
    "\n",
    "![](./images/example1_spreadsheet.png)\n",
    "\n",
    "Databaker uses dot notation for selecting cells. Basically, you start with a selection of data and each additional `.<command>` modifies that selection somehow.\n",
    "\n",
    "In other words - each line is a sequence of commands executed one after the other.\n",
    "\n",
    "Here's a complete line:\n",
    "\n",
    "![alt text](images/line1.png)\n",
    "\n",
    "We're now going to walk through this line of commands. We'll adress each `.<command>` in turn, highlighting which \"cells\" are selected as each command executes.\n"
   ]
  },
  {
   "cell_type": "markdown",
   "metadata": {},
   "source": [
    "# 'tab' command\n",
    "\n",
    "This is the first command and the standard starting point - literally select all cells in the tab we are looking at.\n",
    "\n",
    "so:\n",
    "    \n",
    "![alt text](images/line2.png)\n",
    "\n",
    "gets us to:\n",
    "    \n",
    "![alt text](images/select1.png)"
   ]
  },
  {
   "cell_type": "markdown",
   "metadata": {},
   "source": [
    "---\n",
    "\n",
    "## excel_ref('C5')\n",
    "\n",
    "means .... FROM THE CURRENT SELECTION ..... get us any cell with an 'excel reference' (letter/number) of 'C5'\n",
    "\n",
    "so:\n",
    "\n",
    "![alt text](images/line3.png)\n",
    "\n",
    "gets us to:\n",
    "    \n",
    "![alt text](images/select2.png)"
   ]
  },
  {
   "cell_type": "markdown",
   "metadata": {},
   "source": [
    "---\n",
    "\n",
    "## expand(DOWN)\n",
    "\n",
    "means .... FROM THE CURRENT SELECTION ..... expand downwards and select all cells, including current selection.\n",
    "\n",
    "NOTE - there is also a \".fill\" command that does the same thing but does NOT include the current selection.\n",
    "\n",
    "so:\n",
    "\n",
    "![alt text](images/line4.png)\n",
    "\n",
    "gets us to:\n",
    "    \n",
    "![alt text](images/select3.png)"
   ]
  },
  {
   "cell_type": "markdown",
   "metadata": {},
   "source": [
    "## expand(RIGHT)\n",
    "\n",
    "means .... FROM THE CURRENT SELECTION ..... expand right selecting all cells, including current selection.\n",
    "\n",
    "NOTE - the \"FROM CURRENT SELECTION\" is important here. We select the cells to the right of ALL the cells currently selected.\n",
    "\n",
    "so:\n",
    "\n",
    "![alt text](images/line5.png)\n",
    "\n",
    "gets us to:\n",
    "    \n",
    "![alt text](images/select4.png)"
   ]
  },
  {
   "cell_type": "markdown",
   "metadata": {},
   "source": [
    "## is_not_blank()\n",
    "\n",
    "means .... FROM THE CURRENT SELECTION ..... only keep the cells, if each cell IS NOT BLANK.\n",
    "\n",
    "so:\n",
    "\n",
    "![alt text](images/line6.png)\n",
    "\n",
    "gets us to:\n",
    "    \n",
    "![alt text](images/select5.png)"
   ]
  },
  {
   "cell_type": "markdown",
   "metadata": {},
   "source": [
    "Which gets us the selection of cells we want, which in this case is the *observations*. \n",
    "\n",
    "**NOTE:** observations are the observable \"amount\" of whatever's being measured by a dataset - in this case it's a count of each type of asset, per person, per group."
   ]
  }
 ],
 "metadata": {
  "kernelspec": {
   "display_name": "Python 3",
   "language": "python",
   "name": "python3"
  },
  "language_info": {
   "codemirror_mode": {
    "name": "ipython",
    "version": 3
   },
   "file_extension": ".py",
   "mimetype": "text/x-python",
   "name": "python",
   "nbconvert_exporter": "python",
   "pygments_lexer": "ipython3",
   "version": "3.7.3"
  }
 },
 "nbformat": 4,
 "nbformat_minor": 4
}
