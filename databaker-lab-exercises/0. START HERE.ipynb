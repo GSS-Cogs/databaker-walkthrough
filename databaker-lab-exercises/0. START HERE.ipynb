{
 "cells": [
  {
   "cell_type": "markdown",
   "metadata": {},
   "source": [
    "# C.O.G.S Data Transformation Tutorials\n",
    "\n",
    "The following notebooks are intended to be utiised *in the defined order*. And seek to provided interactive examples of the various stages of the python/jupyter data transformations run as part of this project.\n",
    "\n",
    "## Reading Order\n",
    "\n",
    "To get the most out of these guides, work through them in numeric order (as shown on the left pane) remembering to scroll all the way through each (some will be quite long) running code and reading the guidence at your own pace.\n",
    "\n",
    "Remember - this is *your personnal copy* of these tutorials - feel free to take notes, change things to see what happens etc once you're done with an exercise.\n",
    "\n",
    "## Getting the most out of a Jupyter Lab\n",
    "\n",
    "\"Jupyter lab\" is just the term for the interactive browser-based python interpreter you are currently using.\n",
    "\n",
    "A \"Jupyer notebook\" is just single one of the cell-like python interpreter documents found in a lab.\n",
    "\n",
    "To put it another way - you're currently reading a jupyter notebook (START HERE.ipnb), the display to the left are the included controls are part of the \"lab\" interface wrapping that notebook, i.e we use notebooks - those notebooks go \"in\" a lab.\n",
    "\n",
    "Some things to note:\n",
    "\n",
    "* A jupyter notebook (files ending .ipynb - like the one you're currently reading) are made up of 'cells'.\n",
    "* These cells can either containt Markdown (styled text - like this one that you're reading) or executable pyhon code.\n",
    "* Each `cell` of python code can be run individually.\n",
    "* The output from any code cell run will be shown below that cell.\n",
    "* If you end a cell with a variable, that variable will get printed as output, even without a print() command. See the example cell below"
   ]
  },
  {
   "cell_type": "code",
   "execution_count": null,
   "metadata": {},
   "outputs": [],
   "source": [
    "# To run this example - click to select this cell, then click the play button on the ribbon at the top.\n",
    "text = \"I am some example text\"\n",
    "text"
   ]
  },
  {
   "cell_type": "markdown",
   "metadata": {},
   "source": [
    "Throughout these guides we will be using individual python cells to break down code into easily ingested pieces.\n",
    "\n",
    "The key thing to remember is that the notebooks **save state (i.e variables) between cells indefinetly** (unless the notebook kernel is restarted - we won't be doing that).\n",
    "\n",
    "Example - run the following cell."
   ]
  },
  {
   "cell_type": "code",
   "execution_count": null,
   "metadata": {},
   "outputs": [],
   "source": [
    "text"
   ]
  },
  {
   "cell_type": "markdown",
   "metadata": {},
   "source": [
    "And you should find that the lab remembers the value of `text` and again prints it as output (because as previously mentioned, jupyter always prints variables that end cells).\n",
    "\n",
    "Although use for tutorials and guides jupyter lab will also be used heavily in the wider project, as the ability to break transformation down into smaller pieces (and more importanly preview those pieces in-line) is a useful tool for understanding the data you're working with."
   ]
  }
 ],
 "metadata": {
  "kernelspec": {
   "display_name": "Python 3",
   "language": "python",
   "name": "python3"
  },
  "language_info": {
   "codemirror_mode": {
    "name": "ipython",
    "version": 3
   },
   "file_extension": ".py",
   "mimetype": "text/x-python",
   "name": "python",
   "nbconvert_exporter": "python",
   "pygments_lexer": "ipython3",
   "version": "3.6.6"
  }
 },
 "nbformat": 4,
 "nbformat_minor": 2
}
