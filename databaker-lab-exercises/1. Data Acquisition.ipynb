{
 "cells": [
  {
   "cell_type": "markdown",
   "metadata": {},
   "source": [
    "# Data Acquisition\n",
    "\n",
    "As the project advanced the means of sourcing data will evolve. Though both **scrapers** and data pre-canned in **online buckets** are certain to be parts of it.\n",
    "\n",
    "For the sake of these tutorials we'll pretend the data is being acquired via scrapers. For each example a prebuilt mock scraper (a thing that'll just give you the data) will be included as the starting point.\n",
    "\n",
    "## Metadata\n",
    "\n",
    "One key point to be aware of when we talk about source data, is that whatever \"the\" source is, it will include both data and metadata, as for our purposes a data source without metadata is effectively useless.\n",
    "\n",
    "The term used to describe this data+metadata source is the dataset **distribution**."
   ]
  }
 ],
 "metadata": {
  "kernelspec": {
   "display_name": "Python 3",
   "language": "python",
   "name": "python3"
  },
  "language_info": {
   "codemirror_mode": {
    "name": "ipython",
    "version": 3
   },
   "file_extension": ".py",
   "mimetype": "text/x-python",
   "name": "python",
   "nbconvert_exporter": "python",
   "pygments_lexer": "ipython3",
   "version": "3.6.6"
  }
 },
 "nbformat": 4,
 "nbformat_minor": 2
}
